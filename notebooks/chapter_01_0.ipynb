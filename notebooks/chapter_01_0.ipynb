{
 "cells": [
  {
   "cell_type": "markdown",
   "metadata": {},
   "source": [
    "<a target=\"_blank\" href=\"https://colab.research.google.com/github/wandb/eval-course/blob/main/notebooks/chapter_01_0.ipynb\"><img src=\"https://colab.research.google.com/assets/colab-badge.svg\" alt=\"Open In Colab\"/></a>\n",
    "<!--- @wandbcode{eval-course-01} -->"
   ]
  },
  {
   "cell_type": "markdown",
   "metadata": {},
   "source": [
    "# Chapter 1: Introduction to LLM Evaluation\n",
    "\n",
    "This code notebook is part of Chapter 1 lesson of the [LLM Apps: Evaluation course](https://wandb.ai/site/courses/evals/)."
   ]
  },
  {
   "cell_type": "markdown",
   "metadata": {},
   "source": [
    "## Setup"
   ]
  },
  {
   "cell_type": "code",
   "execution_count": 1,
   "metadata": {},
   "outputs": [
    {
     "name": "stdout",
     "output_type": "stream",
     "text": [
      "Not running in Google Colab. Skipping git clone and pip install commands.\n"
     ]
    }
   ],
   "source": [
    "try:\n",
    "    import google.colab\n",
    "    IN_COLAB = True\n",
    "except ImportError:\n",
    "    IN_COLAB = False\n",
    "\n",
    "if IN_COLAB:\n",
    "    !git clone --branch main https://github.com/wandb/eval-course\n",
    "    %cd eval-course\n",
    "    !pip install uv\n",
    "    !uv pip install --system --quiet -r requirements.txt\n",
    "    !uv pip install --system scipy==1.11.4\n",
    "    %cd notebooks\n",
    "else:\n",
    "    print(\"Not running in Google Colab. Skipping git clone and pip install commands.\")"
   ]
  },
  {
   "cell_type": "code",
   "execution_count": 2,
   "metadata": {},
   "outputs": [],
   "source": [
    "try:\n",
    "    in_jupyter = True\n",
    "except ImportError:\n",
    "    in_jupyter = False\n",
    "if in_jupyter:\n",
    "    import nest_asyncio\n",
    "\n",
    "    nest_asyncio.apply()"
   ]
  },
  {
   "cell_type": "code",
   "execution_count": 1,
   "metadata": {},
   "outputs": [],
   "source": [
    "import asyncio\n",
    "import json\n",
    "import warnings\n",
    "warnings.filterwarnings('ignore')\n",
    "\n",
    "from dotenv import load_dotenv\n",
    "\n",
    "load_dotenv()\n",
    "\n",
    "import weave\n",
    "from set_env import set_env"
   ]
  },
  {
   "cell_type": "code",
   "execution_count": 4,
   "metadata": {},
   "outputs": [
    {
     "name": "stderr",
     "output_type": "stream",
     "text": [
      "\u001b[32m2025-01-16 00:52:20.912\u001b[0m | \u001b[33m\u001b[1mWARNING \u001b[0m | \u001b[36mset_env.set_env\u001b[0m:\u001b[36mset_env\u001b[0m:\u001b[36m109\u001b[0m - \u001b[33m\u001b[1m\n",
      "        Unable to set WANDB_API_KEY=WANDB_API_KEY,\n",
      "        not in colab or Secrets not set, not kaggle\n",
      "        or Secrets not set, no .env/dotenv/env file\n",
      "        in the current working dir or parent dirs.\u001b[0m\n"
     ]
    },
    {
     "name": "stdout",
     "output_type": "stream",
     "text": [
      "loading envfile='/Users/michaelliu/workspace/eval-course/eval-course/notebooks/.env' with dotenv_values(envfile)\n",
      "loading envfile='/Users/michaelliu/workspace/eval-course/eval-course/notebooks/.env' with dotenv_values(envfile)\n",
      "Env set\n"
     ]
    }
   ],
   "source": [
    "set_env(\"GOOGLE_API_KEY\")\n",
    "set_env(\"WANDB_API_KEY\")\n",
    "print(\"Env set\")"
   ]
  },
  {
   "cell_type": "markdown",
   "metadata": {},
   "source": [
    "Set your W&B snd Google AI API keys as variables in the Colab secret tab."
   ]
  },
  {
   "cell_type": "code",
   "execution_count": 5,
   "metadata": {},
   "outputs": [],
   "source": [
    "from utils.config import ENTITY, MODEL, MODEL_CLIENT, WEAVE_PROJECT\n",
    "from utils.evals import calculate_kappa_scores, get_evaluation_predictions\n",
    "from utils.llm_client import LLMClient\n",
    "from utils.prompts import (\n",
    "    MedicalPrivacyJudgement,\n",
    "    MedicalTaskScoreJudgement,\n",
    "    medical_privacy_judge_prompt,\n",
    "    medical_privacy_system_prompt,\n",
    "    medical_system_prompt,\n",
    "    medical_task,\n",
    "    medical_task_score_prompt,\n",
    "    medical_task_score_system_prompt,\n",
    ")\n",
    "from utils.render import display_prompt, print_dialogue_data\n",
    "from utils.deserialize import MainCriteria, deserialize_model"
   ]
  },
  {
   "cell_type": "markdown",
   "metadata": {},
   "source": [
    "## Understanding Medical Data Extraction Evaluation\n",
    "\n",
    "### The Task: What Are We Trying to Do?\n",
    "\n",
    "#### Raw Data Format\n",
    "Medical conversations are messy and unstructured. Looking at our example data:\n",
    "\n",
    "- Back-and-forth conversation between doctor and patient\n",
    "- Contains personal details, small talk, and medical information mixed together\n",
    "- Informal language (\"hey\", \"mm-hmm\", \"yeah\")\n",
    "- Important details scattered throughout\n",
    "\n",
    "#### Extraction Goals\n",
    "The LLM needs to:\n",
    "1. Find relevant information\n",
    "2. Ignore irrelevant details\n",
    "3. Standardize the format\n",
    "4. Protect patient privacy\n",
    "5. Maintain medical accuracy"
   ]
  },
  {
   "cell_type": "code",
   "execution_count": 6,
   "metadata": {},
   "outputs": [
    {
     "name": "stdout",
     "output_type": "stream",
     "text": [
      "Logged in as Weights & Biases user: michaelyliu6.\n",
      "View Weave data at https://wandb.ai/michaelyliu6-none/eval_course_ch1/weave\n"
     ]
    }
   ],
   "source": [
    "if ENTITY is not None:\n",
    "    weave_client = weave.init(f\"{ENTITY}/{WEAVE_PROJECT}\")\n",
    "else:\n",
    "    weave_client = weave.init(f\"{WEAVE_PROJECT}\")\n"
   ]
  },
  {
   "cell_type": "code",
   "execution_count": 7,
   "metadata": {},
   "outputs": [
    {
     "data": {
      "text/html": [
       "<pre style=\"white-space:pre;overflow-x:auto;line-height:normal;font-family:Menlo,'DejaVu Sans Mono',consolas,'Courier New',monospace\">You are a medical data extraction AI assistant. Your task is to accurately extract and summarize key medical       \n",
       "information from patient records, adhering strictly to privacy guidelines and formatting instructions provided in  \n",
       "the user's prompt. Focus on relevance and conciseness while ensuring all required fields are addressed.            \n",
       "</pre>\n"
      ],
      "text/plain": [
       "You are a medical data extraction AI assistant. Your task is to accurately extract and summarize key medical       \n",
       "information from patient records, adhering strictly to privacy guidelines and formatting instructions provided in  \n",
       "the user's prompt. Focus on relevance and conciseness while ensuring all required fields are addressed.            \n"
      ]
     },
     "metadata": {},
     "output_type": "display_data"
    },
    {
     "data": {
      "text/html": [
       "<pre style=\"white-space:pre;overflow-x:auto;line-height:normal;font-family:Menlo,'DejaVu Sans Mono',consolas,'Courier New',monospace\">You are extracting insights from medical records containing notes and doctor-patient dialogue.                     \n",
       "\n",
       "\n",
       "                                                  <span style=\"font-weight: bold; text-decoration: underline\">Required Fields</span>                                                  \n",
       "\n",
       "Extract the following information:                                                                                 \n",
       "\n",
       "• <span style=\"font-weight: bold\">Chief complaint</span>                                                                                                  \n",
       "\n",
       "• <span style=\"font-weight: bold\">History of present illness</span>                                                                                       \n",
       "\n",
       "• <span style=\"font-weight: bold\">Physical examination</span>                                                                                             \n",
       "\n",
       "• <span style=\"font-weight: bold\">Symptoms</span> experienced by the patient                                                                              \n",
       "\n",
       "• <span style=\"font-weight: bold\">New medications</span> prescribed or changed, including dosages (N/A if not provided)                                   \n",
       "\n",
       "• <span style=\"font-weight: bold\">Follow-up instructions</span> (N/A if not provided)                                                                     \n",
       "\n",
       "\n",
       "                                                   <span style=\"font-weight: bold; text-decoration: underline\">Requirements</span>                                                    \n",
       "\n",
       "• Do not include any personal identifiable information (PII)                                                       \n",
       "\n",
       "• Use \"the patient\" instead of names                                                                               \n",
       "\n",
       "• Format as bullet points: •field: value                                                                           \n",
       "\n",
       "• Use N/A for missing values                                                                                       \n",
       "\n",
       "• Keep response around 150 words                                                                                   \n",
       "\n",
       "{transcript}                                                                                                       \n",
       "</pre>\n"
      ],
      "text/plain": [
       "You are extracting insights from medical records containing notes and doctor-patient dialogue.                     \n",
       "\n",
       "\n",
       "                                                  \u001b[1;4mRequired Fields\u001b[0m                                                  \n",
       "\n",
       "Extract the following information:                                                                                 \n",
       "\n",
       "• \u001b[1mChief complaint\u001b[0m                                                                                                  \n",
       "\n",
       "• \u001b[1mHistory of present illness\u001b[0m                                                                                       \n",
       "\n",
       "• \u001b[1mPhysical examination\u001b[0m                                                                                             \n",
       "\n",
       "• \u001b[1mSymptoms\u001b[0m experienced by the patient                                                                              \n",
       "\n",
       "• \u001b[1mNew medications\u001b[0m prescribed or changed, including dosages (N/A if not provided)                                   \n",
       "\n",
       "• \u001b[1mFollow-up instructions\u001b[0m (N/A if not provided)                                                                     \n",
       "\n",
       "\n",
       "                                                   \u001b[1;4mRequirements\u001b[0m                                                    \n",
       "\n",
       "• Do not include any personal identifiable information (PII)                                                       \n",
       "\n",
       "• Use \"the patient\" instead of names                                                                               \n",
       "\n",
       "• Format as bullet points: •field: value                                                                           \n",
       "\n",
       "• Use N/A for missing values                                                                                       \n",
       "\n",
       "• Keep response around 150 words                                                                                   \n",
       "\n",
       "{transcript}                                                                                                       \n"
      ]
     },
     "metadata": {},
     "output_type": "display_data"
    }
   ],
   "source": [
    "display_prompt(medical_system_prompt)\n",
    "display_prompt(medical_task)"
   ]
  },
  {
   "cell_type": "markdown",
   "metadata": {},
   "source": [
    "<div align=\"center\">\n",
    "    <img src=\"./media/medical_chatbot.png\" width=\"250\"/>\n",
    "</div>"
   ]
  },
  {
   "cell_type": "code",
   "execution_count": 8,
   "metadata": {},
   "outputs": [],
   "source": [
    "# Make sure to update the ENTITY and WEAVE_PROJECT in config.py to the correct project!\n",
    "# Uncomment the following line to use your own annotated data after running chapter_01_generate_medical_data.ipynb\n",
    "# annotated_medical_data = weave.ref(\n",
    "#     f\"weave:///{ENTITY}/{WEAVE_PROJECT}/object/medical_data_annotations:latest\",\n",
    "# ).get()\n",
    "annotated_medical_data = weave.ref(\"weave:///a-sh0ts/eval_course_ch1_dev/object/medical_data_annotations:At9gri9UasftpPe5VNzT3EuIXQWAo5MYX8aMf2cuE8A\").get()"
   ]
  },
  {
   "cell_type": "code",
   "execution_count": 9,
   "metadata": {},
   "outputs": [
    {
     "data": {
      "text/html": [
       "<pre style=\"white-space:pre;overflow-x:auto;line-height:normal;font-family:Menlo,'DejaVu Sans Mono',consolas,'Courier New',monospace\"><span style=\"color: #000080; text-decoration-color: #000080\">╭────────────────────────────────────────────────────</span><span style=\"color: #008080; text-decoration-color: #008080; font-weight: bold\">  Input  </span><span style=\"color: #000080; text-decoration-color: #000080\">────────────────────────────────────────────────────╮</span>\n",
       "<span style=\"color: #000080; text-decoration-color: #000080\">│</span>                                                                                                                 <span style=\"color: #000080; text-decoration-color: #000080\">│</span>\n",
       "<span style=\"color: #000080; text-decoration-color: #000080\">│</span>  input: Dialogue:  hey dylan what's going on so i lift quite a bit of weights i try to stay in shape as much    <span style=\"color: #000080; text-decoration-color: #000080\">│</span>\n",
       "<span style=\"color: #000080; text-decoration-color: #000080\">│</span>  as i can i'm not like normal people i lift heavy weights and my elbow is extremely sore which elbow is it      <span style=\"color: #000080; text-decoration-color: #000080\">│</span>\n",
       "<span style=\"color: #000080; text-decoration-color: #000080\">│</span>  actually it's both my elbows but my right elbow is hurting me the most  okay and you said you lift a lot of    <span style=\"color: #000080; text-decoration-color: #000080\">│</span>\n",
       "<span style=\"color: #000080; text-decoration-color: #000080\">│</span>  weights  mm-hmm  did you play any sports when you were younger  no anything you can think of primarily it was  <span style=\"color: #000080; text-decoration-color: #000080\">│</span>\n",
       "<span style=\"color: #000080; text-decoration-color: #000080\">│</span>  basketball baseb...                                                                                            <span style=\"color: #000080; text-decoration-color: #000080\">│</span>\n",
       "<span style=\"color: #000080; text-decoration-color: #000080\">│</span>                                                                                                                 <span style=\"color: #000080; text-decoration-color: #000080\">│</span>\n",
       "<span style=\"color: #000080; text-decoration-color: #000080\">╰─────────────────────────────────────────────────────────────────────────────────────────────────────────────────╯</span>\n",
       "</pre>\n"
      ],
      "text/plain": [
       "\u001b[34m╭─\u001b[0m\u001b[34m───────────────────────────────────────────────────\u001b[0m\u001b[1;36m  Input  \u001b[0m\u001b[34m───────────────────────────────────────────────────\u001b[0m\u001b[34m─╮\u001b[0m\n",
       "\u001b[34m│\u001b[0m                                                                                                                 \u001b[34m│\u001b[0m\n",
       "\u001b[34m│\u001b[0m  input: Dialogue:  hey dylan what's going on so i lift quite a bit of weights i try to stay in shape as much    \u001b[34m│\u001b[0m\n",
       "\u001b[34m│\u001b[0m  as i can i'm not like normal people i lift heavy weights and my elbow is extremely sore which elbow is it      \u001b[34m│\u001b[0m\n",
       "\u001b[34m│\u001b[0m  actually it's both my elbows but my right elbow is hurting me the most  okay and you said you lift a lot of    \u001b[34m│\u001b[0m\n",
       "\u001b[34m│\u001b[0m  weights  mm-hmm  did you play any sports when you were younger  no anything you can think of primarily it was  \u001b[34m│\u001b[0m\n",
       "\u001b[34m│\u001b[0m  basketball baseb...                                                                                            \u001b[34m│\u001b[0m\n",
       "\u001b[34m│\u001b[0m                                                                                                                 \u001b[34m│\u001b[0m\n",
       "\u001b[34m╰─────────────────────────────────────────────────────────────────────────────────────────────────────────────────╯\u001b[0m\n"
      ]
     },
     "metadata": {},
     "output_type": "display_data"
    },
    {
     "data": {
      "text/html": [
       "<pre style=\"white-space:pre;overflow-x:auto;line-height:normal;font-family:Menlo,'DejaVu Sans Mono',consolas,'Courier New',monospace\">\n",
       "</pre>\n"
      ],
      "text/plain": [
       "\n"
      ]
     },
     "metadata": {},
     "output_type": "display_data"
    }
   ],
   "source": [
    "print_dialogue_data(annotated_medical_data, indexes_to_show=[0], max_chars=500)"
   ]
  },
  {
   "cell_type": "markdown",
   "metadata": {},
   "source": [
    "### In fact, let's just generate an example now:"
   ]
  },
  {
   "cell_type": "code",
   "execution_count": 10,
   "metadata": {},
   "outputs": [
    {
     "name": "stdout",
     "output_type": "stream",
     "text": [
      "🍩 https://wandb.ai/michaelyliu6-none/eval_course_ch1/r/call/01946dab-8932-7932-9036-eb4a686f2335\n"
     ]
    },
    {
     "data": {
      "text/plain": [
       "'• **Chief complaint**: Bilateral elbow pain, right worse than left.\\n• **History of present illness**: The patient reports bilateral elbow pain for 1.5 years, worse on the right. The pain is located on the medial side of both elbows and is exacerbated by using their hands or arms. The patient lifts heavy weights for training. Ice does not help, the patient takes ibuprofen 800mg three times a day.\\n• **Physical examination**: Limited range of motion on the right elbow extension and full range of motion with flexion, with pain in both. Pain on palpation of the medial side of the right elbow. Left elbow shows slight limited range of motion on extension with pain. Pain with supination in both elbows. Normal sensation in the fingers. Equal pulses in extremities.\\n• **Symptoms**: Bilateral elbow pain, pain on flexion and extension of both elbows, pain with supination, limited range of motion with extension.\\n• **New medications**: N/A\\n• **Follow-up instructions**: The patient will get an MRI for further evaluation and discussed a potential whole blood transfusion.\\n'"
      ]
     },
     "execution_count": 10,
     "metadata": {},
     "output_type": "execute_result"
    }
   ],
   "source": [
    "llm = LLMClient(model_name=MODEL, client_type=MODEL_CLIENT)\n",
    "llm.predict(\n",
    "    user_prompt=medical_task.format(transcript=annotated_medical_data[0][0][\"input\"]),\n",
    "    system_prompt=medical_system_prompt,\n",
    ")"
   ]
  },
  {
   "cell_type": "markdown",
   "metadata": {},
   "source": [
    "## Data Collection and Curation for Evaluation\n",
    "\n",
    "### Our approach for medical extraction evaluation data:\n",
    "\n",
    "1. Start with real medical transcripts from production systems\n",
    "   - Actual doctor-patient conversations \n",
    "   - Authentic medical terminology and flows\n",
    "   - Real-world edge cases\n",
    "\n",
    "2. Dataset Diversity Requirements\n",
    "   - Various medical conditions\n",
    "   - Different conversation styles\n",
    "   - Mix of routine and complex cases\n",
    "   - Remove duplicates for clean evaluation"
   ]
  },
  {
   "cell_type": "code",
   "execution_count": 11,
   "metadata": {},
   "outputs": [
    {
     "data": {
      "text/html": [
       "<pre style=\"white-space:pre;overflow-x:auto;line-height:normal;font-family:Menlo,'DejaVu Sans Mono',consolas,'Courier New',monospace\"><span style=\"color: #000080; text-decoration-color: #000080\">╭───────────────────────────────────────────────────</span><span style=\"color: #008080; text-decoration-color: #008080; font-weight: bold\">  Output  </span><span style=\"color: #000080; text-decoration-color: #000080\">────────────────────────────────────────────────────╮</span>\n",
       "<span style=\"color: #000080; text-decoration-color: #000080\">│</span>                                                                                                                 <span style=\"color: #000080; text-decoration-color: #000080\">│</span>\n",
       "<span style=\"color: #000080; text-decoration-color: #000080\">│</span>  output:                                                                                                        <span style=\"color: #000080; text-decoration-color: #000080\">│</span>\n",
       "<span style=\"color: #000080; text-decoration-color: #000080\">│</span>  • Chief complaint: Bilateral elbow pain, right worse than left                                                 <span style=\"color: #000080; text-decoration-color: #000080\">│</span>\n",
       "<span style=\"color: #000080; text-decoration-color: #000080\">│</span>  • History of present illness: Patient, a 53-year-old male, has been experiencing bilateral elbow pain for      <span style=\"color: #000080; text-decoration-color: #000080\">│</span>\n",
       "<span style=\"color: #000080; text-decoration-color: #000080\">│</span>  approximately 1.5 years, worse on the right side. Pain localized to the medial aspect, exacerbated by upper    <span style=\"color: #000080; text-decoration-color: #000080\">│</span>\n",
       "<span style=\"color: #000080; text-decoration-color: #000080\">│</span>  extremity use. No relief with ice, taking ibuprofen 800 mg thrice daily. Actively uses heavy weights for       <span style=\"color: #000080; text-decoration-color: #000080\">│</span>\n",
       "<span style=\"color: #000080; text-decoration-color: #000080\">│</span>  strength training and played basketball, baseball, and football in the past without pain.                      <span style=\"color: #000080; text-decoration-color: #000080\">│</span>\n",
       "<span style=\"color: #000080; text-decoration-color: #000080\">│</span>  • Physical examination:                                                                                        <span style=\"color: #000080; text-decoration-color: #000080\">│</span>\n",
       "<span style=\"color: #000080; text-decoration-color: #000080\">│</span>    - Right elbow: Limited extension range with pain, full flexion range with pain, medial aspect tenderness,    <span style=\"color: #000080; text-decoration-color: #000080\">│</span>\n",
       "<span style=\"color: #000080; text-decoration-color: #000080\">│</span>  pain on supination.                                                                                            <span style=\"color: #000080; text-decoration-color: #000080\">│</span>\n",
       "<span style=\"color: #000080; text-decoration-color: #000080\">│</span>    - Left elbow: Minimal pain with flexion and extension, limited extension range, pain on supination.          <span style=\"color: #000080; text-decoration-color: #000080\">│</span>\n",
       "<span style=\"color: #000080; text-decoration-color: #000080\">│</span>  • Symptoms: Bilateral elbow pain, worse on right side, exacerbated by arm use.                                 <span style=\"color: #000080; text-decoration-color: #000080\">│</span>\n",
       "<span style=\"color: #000080; text-decoration-color: #000080\">│</span>  • New medications: N/A                                                                                         <span style=\"color: #000080; text-decoration-color: #000080\">│</span>\n",
       "<span style=\"color: #000080; text-decoration-color: #000080\">│</span>  • Follow-up instructions: MRI of bilateral elbows for further evaluation, possibility of whole blood           <span style=\"color: #000080; text-decoration-color: #000080\">│</span>\n",
       "<span style=\"color: #000080; text-decoration-color: #000080\">│</span>  transfusion to encourage healing discussed.                                                                    <span style=\"color: #000080; text-decoration-color: #000080\">│</span>\n",
       "<span style=\"color: #000080; text-decoration-color: #000080\">│</span>                                                                                                                 <span style=\"color: #000080; text-decoration-color: #000080\">│</span>\n",
       "<span style=\"color: #000080; text-decoration-color: #000080\">╰─────────────────────────────────────────────────────────────────────────────────────────────────────────────────╯</span>\n",
       "</pre>\n"
      ],
      "text/plain": [
       "\u001b[34m╭─\u001b[0m\u001b[34m──────────────────────────────────────────────────\u001b[0m\u001b[1;36m  Output  \u001b[0m\u001b[34m───────────────────────────────────────────────────\u001b[0m\u001b[34m─╮\u001b[0m\n",
       "\u001b[34m│\u001b[0m                                                                                                                 \u001b[34m│\u001b[0m\n",
       "\u001b[34m│\u001b[0m  output:                                                                                                        \u001b[34m│\u001b[0m\n",
       "\u001b[34m│\u001b[0m  • Chief complaint: Bilateral elbow pain, right worse than left                                                 \u001b[34m│\u001b[0m\n",
       "\u001b[34m│\u001b[0m  • History of present illness: Patient, a 53-year-old male, has been experiencing bilateral elbow pain for      \u001b[34m│\u001b[0m\n",
       "\u001b[34m│\u001b[0m  approximately 1.5 years, worse on the right side. Pain localized to the medial aspect, exacerbated by upper    \u001b[34m│\u001b[0m\n",
       "\u001b[34m│\u001b[0m  extremity use. No relief with ice, taking ibuprofen 800 mg thrice daily. Actively uses heavy weights for       \u001b[34m│\u001b[0m\n",
       "\u001b[34m│\u001b[0m  strength training and played basketball, baseball, and football in the past without pain.                      \u001b[34m│\u001b[0m\n",
       "\u001b[34m│\u001b[0m  • Physical examination:                                                                                        \u001b[34m│\u001b[0m\n",
       "\u001b[34m│\u001b[0m    - Right elbow: Limited extension range with pain, full flexion range with pain, medial aspect tenderness,    \u001b[34m│\u001b[0m\n",
       "\u001b[34m│\u001b[0m  pain on supination.                                                                                            \u001b[34m│\u001b[0m\n",
       "\u001b[34m│\u001b[0m    - Left elbow: Minimal pain with flexion and extension, limited extension range, pain on supination.          \u001b[34m│\u001b[0m\n",
       "\u001b[34m│\u001b[0m  • Symptoms: Bilateral elbow pain, worse on right side, exacerbated by arm use.                                 \u001b[34m│\u001b[0m\n",
       "\u001b[34m│\u001b[0m  • New medications: N/A                                                                                         \u001b[34m│\u001b[0m\n",
       "\u001b[34m│\u001b[0m  • Follow-up instructions: MRI of bilateral elbows for further evaluation, possibility of whole blood           \u001b[34m│\u001b[0m\n",
       "\u001b[34m│\u001b[0m  transfusion to encourage healing discussed.                                                                    \u001b[34m│\u001b[0m\n",
       "\u001b[34m│\u001b[0m                                                                                                                 \u001b[34m│\u001b[0m\n",
       "\u001b[34m╰─────────────────────────────────────────────────────────────────────────────────────────────────────────────────╯\u001b[0m\n"
      ]
     },
     "metadata": {},
     "output_type": "display_data"
    },
    {
     "data": {
      "text/html": [
       "<pre style=\"white-space:pre;overflow-x:auto;line-height:normal;font-family:Menlo,'DejaVu Sans Mono',consolas,'Courier New',monospace\">\n",
       "</pre>\n"
      ],
      "text/plain": [
       "\n"
      ]
     },
     "metadata": {},
     "output_type": "display_data"
    }
   ],
   "source": [
    "print_dialogue_data(annotated_medical_data, indexes_to_show=[1], max_chars=2000)"
   ]
  },
  {
   "cell_type": "markdown",
   "metadata": {},
   "source": [
    "## Why and How to Evaluate LLMs\n",
    "\n",
    "### Core Principles of LLM Evaluation\n",
    "Unlike traditional software testing, LLM evaluation requires special consideration:\n",
    "\n",
    "1. **Non-Deterministic Outputs**\n",
    "   - Models can give different valid answers\n",
    "   - Responses vary between runs\n",
    "   - Multiple correct solutions possible\n",
    "\n",
    "2. **Quality is Multi-Dimensional**\n",
    "   - Correctness isn't binary\n",
    "   - Context matters heavily\n",
    "   - Different stakeholders have different priorities\n",
    "\n",
    "3. **Scale vs Accuracy Trade-offs**\n",
    "   - Manual review is accurate but expensive\n",
    "   - Automated checks are scalable but limited\n",
    "   - Hybrid approaches often work best\n",
    "\n",
    "### Practical Evaluation Recipe 🧑‍🍳\n",
    "\n",
    "1. **Define Success Criteria**\n",
    "   - List must-have requirements\n",
    "   - Set acceptable thresholds\n",
    "   - Identify critical failures\n",
    "\n",
    "2. **Build Evaluation Suite**\n",
    "   - Automated checks for clear rules\n",
    "   - Expert review for nuanced cases\n",
    "   - Version control evaluation code\n",
    "\n",
    "3. **Create Scoring System**\n",
    "   - Establish baselines\n",
    "\n",
    "### Applying to Medical Data Extraction 🏥\n",
    "\n",
    "For our medical extraction task, this means:\n",
    "- **Success Criteria**: Required fields, privacy compliance, word limits\n",
    "- **Evaluation Suite**: Automated checks + medical expert review\n",
    "- **Scoring**: Combination of format, accuracy, and safety metrics\n",
    "\n",
    "Let's see how to implement this..."
   ]
  },
  {
   "cell_type": "markdown",
   "metadata": {},
   "source": [
    "![](./media/traditional_llm_eval.png)"
   ]
  },
  {
   "cell_type": "markdown",
   "metadata": {},
   "source": [
    "## Annotation: Building Quality Training Data\n",
    "\n",
    "### Why Annotate?\n",
    "To evaluate LLMs effectively, we need expert-labeled data that:\n",
    "1. Defines what \"good\" looks like\n",
    "2. Shows us what to test for\n",
    "3. Helps align our automated tests with human judgment\n",
    "\n",
    "### Ideal Process\n",
    "Experts review outputs and provide structured feedback. This creates a foundation for:\n",
    "- Building automated evaluation tests\n",
    "- Measuring how well those tests match expert judgment\n",
    "- Refining our evaluation methods until they align with expert standards\n",
    "\n",
    "### Our Annotation Process\n",
    "NOTE: In a production system, this would be done by licensed medical professionals using a strict rubric.\n",
    "For this example code, we'll use synthetic annotations to demonstrate the process:\n",
    "\n",
    "1. Binary Pass/Fail Judgments\n",
    "   - Pass: Correctly extracted key medical information\n",
    "   - Fail: Missed critical details or made dangerous assumptions\n",
    "\n",
    "2. Detailed Critiques Required\n",
    "   - For Passes: Document accuracy while noting improvement areas\n",
    "   - For Fails: Identify specific medical extraction errors and their potential impact\n",
    "\n",
    "These annotated examples become our evaluation dataset, though in practice, \n",
    "medical evaluations should always be validated by qualified healthcare professionals.\n",
    "\n",
    "Think of annotations as our compass - they help ensure our later automated evaluation methods point in the same direction as human experts while assessing the quality of our LLM's outputs."
   ]
  },
  {
   "cell_type": "markdown",
   "metadata": {},
   "source": [
    "<div align=\"center\">\n",
    "    <img src=\"./media/annotation_ui.png\" width=\"450\"/>\n",
    "</div>"
   ]
  },
  {
   "cell_type": "code",
   "execution_count": 12,
   "metadata": {},
   "outputs": [
    {
     "data": {
      "text/html": [
       "<pre style=\"white-space:pre;overflow-x:auto;line-height:normal;font-family:Menlo,'DejaVu Sans Mono',consolas,'Courier New',monospace\"><span style=\"color: #000080; text-decoration-color: #000080\">╭─────────────────────────────────────────────────</span><span style=\"color: #008080; text-decoration-color: #008080; font-weight: bold\">  Annotation  </span><span style=\"color: #000080; text-decoration-color: #000080\">──────────────────────────────────────────────────╮</span>\n",
       "<span style=\"color: #000080; text-decoration-color: #000080\">│</span>                                                                                                                 <span style=\"color: #000080; text-decoration-color: #000080\">│</span>\n",
       "<span style=\"color: #000080; text-decoration-color: #000080\">│</span>  1                                                                                                              <span style=\"color: #000080; text-decoration-color: #000080\">│</span>\n",
       "<span style=\"color: #000080; text-decoration-color: #000080\">│</span>                                                                                                                 <span style=\"color: #000080; text-decoration-color: #000080\">│</span>\n",
       "<span style=\"color: #000080; text-decoration-color: #000080\">╰─────────────────────────────────────────────────────────────────────────────────────────────────────────────────╯</span>\n",
       "</pre>\n"
      ],
      "text/plain": [
       "\u001b[34m╭─\u001b[0m\u001b[34m────────────────────────────────────────────────\u001b[0m\u001b[1;36m  Annotation  \u001b[0m\u001b[34m─────────────────────────────────────────────────\u001b[0m\u001b[34m─╮\u001b[0m\n",
       "\u001b[34m│\u001b[0m                                                                                                                 \u001b[34m│\u001b[0m\n",
       "\u001b[34m│\u001b[0m  1                                                                                                              \u001b[34m│\u001b[0m\n",
       "\u001b[34m│\u001b[0m                                                                                                                 \u001b[34m│\u001b[0m\n",
       "\u001b[34m╰─────────────────────────────────────────────────────────────────────────────────────────────────────────────────╯\u001b[0m\n"
      ]
     },
     "metadata": {},
     "output_type": "display_data"
    },
    {
     "data": {
      "text/html": [
       "<pre style=\"white-space:pre;overflow-x:auto;line-height:normal;font-family:Menlo,'DejaVu Sans Mono',consolas,'Courier New',monospace\">\n",
       "</pre>\n"
      ],
      "text/plain": [
       "\n"
      ]
     },
     "metadata": {},
     "output_type": "display_data"
    },
    {
     "data": {
      "text/html": [
       "<pre style=\"white-space:pre;overflow-x:auto;line-height:normal;font-family:Menlo,'DejaVu Sans Mono',consolas,'Courier New',monospace\"><span style=\"color: #000080; text-decoration-color: #000080\">╭─────────────────────────────────────────────</span><span style=\"color: #008080; text-decoration-color: #008080; font-weight: bold\">  Criteria Annotation  </span><span style=\"color: #000080; text-decoration-color: #000080\">─────────────────────────────────────────────╮</span>\n",
       "<span style=\"color: #000080; text-decoration-color: #000080\">│</span>                                                                                                                 <span style=\"color: #000080; text-decoration-color: #000080\">│</span>\n",
       "<span style=\"color: #000080; text-decoration-color: #000080\">│</span>  MainCriteria(word_count=1, presence_of_keys=1, absence_of_PII=1)                                               <span style=\"color: #000080; text-decoration-color: #000080\">│</span>\n",
       "<span style=\"color: #000080; text-decoration-color: #000080\">│</span>                                                                                                                 <span style=\"color: #000080; text-decoration-color: #000080\">│</span>\n",
       "<span style=\"color: #000080; text-decoration-color: #000080\">╰─────────────────────────────────────────────────────────────────────────────────────────────────────────────────╯</span>\n",
       "</pre>\n"
      ],
      "text/plain": [
       "\u001b[34m╭─\u001b[0m\u001b[34m────────────────────────────────────────────\u001b[0m\u001b[1;36m  Criteria Annotation  \u001b[0m\u001b[34m────────────────────────────────────────────\u001b[0m\u001b[34m─╮\u001b[0m\n",
       "\u001b[34m│\u001b[0m                                                                                                                 \u001b[34m│\u001b[0m\n",
       "\u001b[34m│\u001b[0m  MainCriteria(word_count=1, presence_of_keys=1, absence_of_PII=1)                                               \u001b[34m│\u001b[0m\n",
       "\u001b[34m│\u001b[0m                                                                                                                 \u001b[34m│\u001b[0m\n",
       "\u001b[34m╰─────────────────────────────────────────────────────────────────────────────────────────────────────────────────╯\u001b[0m\n"
      ]
     },
     "metadata": {},
     "output_type": "display_data"
    },
    {
     "data": {
      "text/html": [
       "<pre style=\"white-space:pre;overflow-x:auto;line-height:normal;font-family:Menlo,'DejaVu Sans Mono',consolas,'Courier New',monospace\">\n",
       "</pre>\n"
      ],
      "text/plain": [
       "\n"
      ]
     },
     "metadata": {},
     "output_type": "display_data"
    },
    {
     "data": {
      "text/html": [
       "<pre style=\"white-space:pre;overflow-x:auto;line-height:normal;font-family:Menlo,'DejaVu Sans Mono',consolas,'Courier New',monospace\"><span style=\"color: #000080; text-decoration-color: #000080\">╭────────────────────────────────────────────────────</span><span style=\"color: #008080; text-decoration-color: #008080; font-weight: bold\">  Note  </span><span style=\"color: #000080; text-decoration-color: #000080\">─────────────────────────────────────────────────────╮</span>\n",
       "<span style=\"color: #000080; text-decoration-color: #000080\">│</span>                                                                                                                 <span style=\"color: #000080; text-decoration-color: #000080\">│</span>\n",
       "<span style=\"color: #000080; text-decoration-color: #000080\">│</span>  The extraction successfully meets all specified criteria. All required fields are addressed, including chief   <span style=\"color: #000080; text-decoration-color: #000080\">│</span>\n",
       "<span style=\"color: #000080; text-decoration-color: #000080\">│</span>  complaint, history of present illness, physical examination details, symptoms, new medications, and follow-up  <span style=\"color: #000080; text-decoration-color: #000080\">│</span>\n",
       "<span style=\"color: #000080; text-decoration-color: #000080\">│</span>  instructions. The text is formatted correctly as a bullet list, with 'N/A' appropriately used for missing      <span style=\"color: #000080; text-decoration-color: #000080\">│</span>\n",
       "<span style=\"color: #000080; text-decoration-color: #000080\">│</span>  medication information. No personal identifiable information is included, and the extraction remains concise,  <span style=\"color: #000080; text-decoration-color: #000080\">│</span>\n",
       "<span style=\"color: #000080; text-decoration-color: #000080\">│</span>  adhering to the approximate 150-word limit. Overall, this is a we...                                           <span style=\"color: #000080; text-decoration-color: #000080\">│</span>\n",
       "<span style=\"color: #000080; text-decoration-color: #000080\">│</span>                                                                                                                 <span style=\"color: #000080; text-decoration-color: #000080\">│</span>\n",
       "<span style=\"color: #000080; text-decoration-color: #000080\">╰─────────────────────────────────────────────────────────────────────────────────────────────────────────────────╯</span>\n",
       "</pre>\n"
      ],
      "text/plain": [
       "\u001b[34m╭─\u001b[0m\u001b[34m───────────────────────────────────────────────────\u001b[0m\u001b[1;36m  Note  \u001b[0m\u001b[34m────────────────────────────────────────────────────\u001b[0m\u001b[34m─╮\u001b[0m\n",
       "\u001b[34m│\u001b[0m                                                                                                                 \u001b[34m│\u001b[0m\n",
       "\u001b[34m│\u001b[0m  The extraction successfully meets all specified criteria. All required fields are addressed, including chief   \u001b[34m│\u001b[0m\n",
       "\u001b[34m│\u001b[0m  complaint, history of present illness, physical examination details, symptoms, new medications, and follow-up  \u001b[34m│\u001b[0m\n",
       "\u001b[34m│\u001b[0m  instructions. The text is formatted correctly as a bullet list, with 'N/A' appropriately used for missing      \u001b[34m│\u001b[0m\n",
       "\u001b[34m│\u001b[0m  medication information. No personal identifiable information is included, and the extraction remains concise,  \u001b[34m│\u001b[0m\n",
       "\u001b[34m│\u001b[0m  adhering to the approximate 150-word limit. Overall, this is a we...                                           \u001b[34m│\u001b[0m\n",
       "\u001b[34m│\u001b[0m                                                                                                                 \u001b[34m│\u001b[0m\n",
       "\u001b[34m╰─────────────────────────────────────────────────────────────────────────────────────────────────────────────────╯\u001b[0m\n"
      ]
     },
     "metadata": {},
     "output_type": "display_data"
    },
    {
     "data": {
      "text/html": [
       "<pre style=\"white-space:pre;overflow-x:auto;line-height:normal;font-family:Menlo,'DejaVu Sans Mono',consolas,'Courier New',monospace\">\n",
       "</pre>\n"
      ],
      "text/plain": [
       "\n"
      ]
     },
     "metadata": {},
     "output_type": "display_data"
    }
   ],
   "source": [
    "print_dialogue_data(annotated_medical_data, indexes_to_show=[2, 3, 4], max_chars=500)"
   ]
  },
  {
   "cell_type": "markdown",
   "metadata": {},
   "source": [
    "## Evaluation: Measuring Performance\n",
    "\n",
    "### Understanding LLM Evaluation\n",
    "Unlike traditional software testing, LLM evaluation requires multiple approaches:\n",
    "\n",
    "1. **Automated Checks**\n",
    "   - Fast, programmatic tests\n",
    "   - Clear pass/fail criteria\n",
    "   - Example: format rules, required fields\n",
    "\n",
    "2. **Model-Assisted Evaluation**\n",
    "   - Using LLMs to evaluate outputs\n",
    "   - Helpful for subjective criteria\n",
    "   - Example: checking medical accuracy, privacy compliance\n",
    "\n",
    "3. **Expert Review**\n",
    "   - Human validation of complex cases\n",
    "   - Ground truth for training evaluators\n",
    "   - Example: annotated datasets\n",
    "\n",
    "### Building Evaluation Systems\n",
    "\n",
    "In this notebook, we'll implement this through:\n",
    "\n",
    "1. **Basic Tests**\n",
    "   ```python\n",
    "   test_adheres_to_required_keys()\n",
    "   test_adheres_to_word_limit()\n",
    "   ```\n",
    "\n",
    "2. **LLM Judges**\n",
    "   ```python\n",
    "   judge_adheres_to_privacy_guidelines()\n",
    "   judge_overall_score()\n",
    "   ```\n",
    "\n",
    "3. **Key Questions**\n",
    "   - How closely do automated evaluations match human judgment?\n",
    "   - When do automated systems diverge from human experts?\n",
    "   - What makes a good evaluation system?\n",
    "\n",
    "These questions lead us to the concept of alignment - measuring how well our automated systems match human expectations and values. We'll explore practical ways to measure and improve this alignment after implementing our evaluation system."
   ]
  },
  {
   "cell_type": "markdown",
   "metadata": {},
   "source": [
    "![](./media/eval_task_flowchart.png)"
   ]
  },
  {
   "cell_type": "markdown",
   "metadata": {},
   "source": [
    "### Using Domain Knowledge to Build Evaluation Tests\n",
    "\n",
    "We'll create four key tests to evaluate our medical extraction outputs:\n",
    "\n",
    "1. **Required Fields Check**\n",
    "   - Verifies presence of essential medical fields\n",
    "   - E.g., \"Chief complaint\", \"Symptoms\", \"Follow-up instructions\"\n",
    "\n",
    "2. **Word Limit Check**\n",
    "   - Ensures output stays within 150-word limit\n",
    "   - Promotes concise, focused summaries\n",
    "\n",
    "3. **Privacy Guidelines Check**\n",
    "   - Uses LLM to detect any PII leakage\n",
    "   - Critical for medical data compliance\n",
    "\n",
    "4. **Overall Quality Score**\n",
    "   - LLM-based assessment of extraction quality\n",
    "   - Considers accuracy, completeness, and format\n",
    "\n",
    "These tests will be validated against our expert-annotated dataset to ensure they align with human judgment. This alignment process helps us understand how well our automated evaluation matches medical expert standards.\n",
    "\n",
    "Let's implement each test:"
   ]
  },
  {
   "cell_type": "markdown",
   "metadata": {},
   "source": [
    "#### Software Tests: Older and more rigid approach"
   ]
  },
  {
   "cell_type": "code",
   "execution_count": 13,
   "metadata": {},
   "outputs": [],
   "source": [
    "test_output = annotated_medical_data[0][1][\"output\"]"
   ]
  },
  {
   "cell_type": "code",
   "execution_count": 14,
   "metadata": {},
   "outputs": [],
   "source": [
    "@weave.op\n",
    "def test_adheres_to_required_keys(model_output: str):\n",
    "    # Required medical keys\n",
    "    required_keys = [\n",
    "        \"Chief complaint\",\n",
    "        \"History of present illness\",\n",
    "        \"Physical examination\",\n",
    "        \"Symptoms\",\n",
    "        \"New medications with dosages\",\n",
    "        \"Follow-up instructions\",\n",
    "    ]\n",
    "\n",
    "    # Convert to lowercase for case-insensitive matching\n",
    "    output_lower = model_output.lower()\n",
    "\n",
    "    # Check if all required keys are present\n",
    "    for key in required_keys:\n",
    "        if key.lower() not in output_lower:\n",
    "            return int(False)\n",
    "\n",
    "    return int(True)"
   ]
  },
  {
   "cell_type": "code",
   "execution_count": 15,
   "metadata": {},
   "outputs": [
    {
     "name": "stdout",
     "output_type": "stream",
     "text": [
      "🍩 https://wandb.ai/michaelyliu6-none/eval_course_ch1/r/call/01946dab-9269-78a3-a63d-ff9bdb55ec08\n"
     ]
    },
    {
     "data": {
      "text/plain": [
       "0"
      ]
     },
     "execution_count": 15,
     "metadata": {},
     "output_type": "execute_result"
    }
   ],
   "source": [
    "test_adheres_to_required_keys(test_output)"
   ]
  },
  {
   "cell_type": "code",
   "execution_count": 16,
   "metadata": {},
   "outputs": [],
   "source": [
    "@weave.op\n",
    "def test_adheres_to_word_limit(model_output: str):\n",
    "    return int(len(model_output.split()) <= 150)"
   ]
  },
  {
   "cell_type": "code",
   "execution_count": 17,
   "metadata": {},
   "outputs": [
    {
     "name": "stdout",
     "output_type": "stream",
     "text": [
      "🍩 https://wandb.ai/michaelyliu6-none/eval_course_ch1/r/call/01946dab-9270-77b1-a218-7d0e00b19a56\n"
     ]
    },
    {
     "data": {
      "text/plain": [
       "1"
      ]
     },
     "execution_count": 17,
     "metadata": {},
     "output_type": "execute_result"
    }
   ],
   "source": [
    "test_adheres_to_word_limit(test_output)"
   ]
  },
  {
   "cell_type": "markdown",
   "metadata": {},
   "source": [
    "#### LLM Judges: Newer and more flexible approach"
   ]
  },
  {
   "cell_type": "code",
   "execution_count": 18,
   "metadata": {},
   "outputs": [
    {
     "data": {
      "text/html": [
       "<pre style=\"white-space:pre;overflow-x:auto;line-height:normal;font-family:Menlo,'DejaVu Sans Mono',consolas,'Courier New',monospace\">You are a privacy compliance auditor specialized in medical records. Your task is to evaluate if any Personal      \n",
       "Identifiable Information (PII) is present in the text.                                                             \n",
       "</pre>\n"
      ],
      "text/plain": [
       "You are a privacy compliance auditor specialized in medical records. Your task is to evaluate if any Personal      \n",
       "Identifiable Information (PII) is present in the text.                                                             \n"
      ]
     },
     "metadata": {},
     "output_type": "display_data"
    },
    {
     "data": {
      "text/html": [
       "<pre style=\"white-space:pre;overflow-x:auto;line-height:normal;font-family:Menlo,'DejaVu Sans Mono',consolas,'Courier New',monospace\">Check for the following PII elements:                                                                              \n",
       "\n",
       "• Names (patient, doctor, family members)                                                                          \n",
       "\n",
       "• Dates of birth                                                                                                   \n",
       "\n",
       "• Ages (if specific)                                                                                               \n",
       "\n",
       "• Addresses                                                                                                        \n",
       "\n",
       "• Phone numbers                                                                                                    \n",
       "\n",
       "• Email addresses                                                                                                  \n",
       "\n",
       "• Social Security numbers                                                                                          \n",
       "\n",
       "• Medical record numbers                                                                                           \n",
       "\n",
       "• Insurance information                                                                                            \n",
       "\n",
       "• Specific dates of visits/procedures                                                                              \n",
       "\n",
       "• Unique identifying characteristics                                                                               \n",
       "\n",
       "• Geographic identifiers smaller than a state                                                                      \n",
       "\n",
       "Return only two fields matching the following structure:                                                           \n",
       "\n",
       "<span style=\"background-color: #272822\">                                                                                                                   </span>\n",
       "<span style=\"background-color: #272822\"> </span><span style=\"color: #f8f8f2; text-decoration-color: #f8f8f2; background-color: #272822\">{{</span><span style=\"background-color: #272822\">                                                                                                                </span>\n",
       "<span style=\"background-color: #272822\"> </span><span style=\"color: #f8f8f2; text-decoration-color: #f8f8f2; background-color: #272822\">    </span><span style=\"color: #ff4689; text-decoration-color: #ff4689; background-color: #272822\">\"contains_pii\"</span><span style=\"color: #f8f8f2; text-decoration-color: #f8f8f2; background-color: #272822\">: </span><span style=\"color: #ed007e; text-decoration-color: #ed007e; background-color: #1e0010\">True/False</span><span style=\"color: #f8f8f2; text-decoration-color: #f8f8f2; background-color: #272822\">,</span><span style=\"background-color: #272822\">                                                                                   </span>\n",
       "<span style=\"background-color: #272822\"> </span><span style=\"color: #f8f8f2; text-decoration-color: #f8f8f2; background-color: #272822\">    </span><span style=\"color: #ff4689; text-decoration-color: #ff4689; background-color: #272822\">\"reason\"</span><span style=\"color: #f8f8f2; text-decoration-color: #f8f8f2; background-color: #272822\">: </span><span style=\"color: #e6db74; text-decoration-color: #e6db74; background-color: #272822\">\"Brief explanation of why PII was found or confirmation of privacy compliance\"</span><span style=\"background-color: #272822\">                      </span>\n",
       "<span style=\"background-color: #272822\"> </span><span style=\"color: #f8f8f2; text-decoration-color: #f8f8f2; background-color: #272822\">}}</span><span style=\"background-color: #272822\">                                                                                                                </span>\n",
       "<span style=\"background-color: #272822\">                                                                                                                   </span>\n",
       "\n",
       "Analyze this text for PII: {text}                                                                                  \n",
       "</pre>\n"
      ],
      "text/plain": [
       "Check for the following PII elements:                                                                              \n",
       "\n",
       "• Names (patient, doctor, family members)                                                                          \n",
       "\n",
       "• Dates of birth                                                                                                   \n",
       "\n",
       "• Ages (if specific)                                                                                               \n",
       "\n",
       "• Addresses                                                                                                        \n",
       "\n",
       "• Phone numbers                                                                                                    \n",
       "\n",
       "• Email addresses                                                                                                  \n",
       "\n",
       "• Social Security numbers                                                                                          \n",
       "\n",
       "• Medical record numbers                                                                                           \n",
       "\n",
       "• Insurance information                                                                                            \n",
       "\n",
       "• Specific dates of visits/procedures                                                                              \n",
       "\n",
       "• Unique identifying characteristics                                                                               \n",
       "\n",
       "• Geographic identifiers smaller than a state                                                                      \n",
       "\n",
       "Return only two fields matching the following structure:                                                           \n",
       "\n",
       "\u001b[48;2;39;40;34m                                                                                                                   \u001b[0m\n",
       "\u001b[48;2;39;40;34m \u001b[0m\u001b[38;2;248;248;242;48;2;39;40;34m{{\u001b[0m\u001b[48;2;39;40;34m                                                                                                               \u001b[0m\u001b[48;2;39;40;34m \u001b[0m\n",
       "\u001b[48;2;39;40;34m \u001b[0m\u001b[38;2;248;248;242;48;2;39;40;34m    \u001b[0m\u001b[38;2;255;70;137;48;2;39;40;34m\"contains_pii\"\u001b[0m\u001b[38;2;248;248;242;48;2;39;40;34m:\u001b[0m\u001b[38;2;248;248;242;48;2;39;40;34m \u001b[0m\u001b[38;2;237;0;126;48;2;30;0;16mT\u001b[0m\u001b[38;2;237;0;126;48;2;30;0;16mr\u001b[0m\u001b[38;2;237;0;126;48;2;30;0;16mu\u001b[0m\u001b[38;2;237;0;126;48;2;30;0;16me\u001b[0m\u001b[38;2;237;0;126;48;2;30;0;16m/\u001b[0m\u001b[38;2;237;0;126;48;2;30;0;16mF\u001b[0m\u001b[38;2;237;0;126;48;2;30;0;16ma\u001b[0m\u001b[38;2;237;0;126;48;2;30;0;16ml\u001b[0m\u001b[38;2;237;0;126;48;2;30;0;16ms\u001b[0m\u001b[38;2;237;0;126;48;2;30;0;16me\u001b[0m\u001b[38;2;248;248;242;48;2;39;40;34m,\u001b[0m\u001b[48;2;39;40;34m                                                                                  \u001b[0m\u001b[48;2;39;40;34m \u001b[0m\n",
       "\u001b[48;2;39;40;34m \u001b[0m\u001b[38;2;248;248;242;48;2;39;40;34m    \u001b[0m\u001b[38;2;255;70;137;48;2;39;40;34m\"reason\"\u001b[0m\u001b[38;2;248;248;242;48;2;39;40;34m:\u001b[0m\u001b[38;2;248;248;242;48;2;39;40;34m \u001b[0m\u001b[38;2;230;219;116;48;2;39;40;34m\"Brief explanation of why PII was found or confirmation of privacy compliance\"\u001b[0m\u001b[48;2;39;40;34m                     \u001b[0m\u001b[48;2;39;40;34m \u001b[0m\n",
       "\u001b[48;2;39;40;34m \u001b[0m\u001b[38;2;248;248;242;48;2;39;40;34m}}\u001b[0m\u001b[48;2;39;40;34m                                                                                                               \u001b[0m\u001b[48;2;39;40;34m \u001b[0m\n",
       "\u001b[48;2;39;40;34m                                                                                                                   \u001b[0m\n",
       "\n",
       "Analyze this text for PII: {text}                                                                                  \n"
      ]
     },
     "metadata": {},
     "output_type": "display_data"
    }
   ],
   "source": [
    "display_prompt(medical_privacy_system_prompt)\n",
    "display_prompt(medical_privacy_judge_prompt)"
   ]
  },
  {
   "cell_type": "code",
   "execution_count": 19,
   "metadata": {},
   "outputs": [],
   "source": [
    "@weave.op\n",
    "def judge_adheres_to_privacy_guidelines(model_output: str):\n",
    "    llm = LLMClient(model_name=MODEL, client_type=MODEL_CLIENT)\n",
    "    response = llm.predict(\n",
    "        user_prompt=medical_privacy_judge_prompt.format(text=model_output),\n",
    "        system_prompt=medical_privacy_system_prompt,\n",
    "        schema=MedicalPrivacyJudgement,\n",
    "    )\n",
    "    try:\n",
    "        result = json.loads(response.text.strip(\"\\n\"))\n",
    "        return int(not result[0][\"contains_pii\"])\n",
    "    except:\n",
    "        return int(True)"
   ]
  },
  {
   "cell_type": "code",
   "execution_count": 20,
   "metadata": {},
   "outputs": [
    {
     "name": "stdout",
     "output_type": "stream",
     "text": [
      "🍩 https://wandb.ai/michaelyliu6-none/eval_course_ch1/r/call/01946dab-9280-7022-bc3d-cef374c0262a\n"
     ]
    },
    {
     "data": {
      "text/plain": [
       "1"
      ]
     },
     "execution_count": 20,
     "metadata": {},
     "output_type": "execute_result"
    }
   ],
   "source": [
    "judge_adheres_to_privacy_guidelines(test_output)"
   ]
  },
  {
   "cell_type": "code",
   "execution_count": 21,
   "metadata": {},
   "outputs": [
    {
     "data": {
      "text/html": [
       "<pre style=\"white-space:pre;overflow-x:auto;line-height:normal;font-family:Menlo,'DejaVu Sans Mono',consolas,'Courier New',monospace\">You are a medical documentation quality assessor specialized in evaluating information extraction from medical     \n",
       "records. Your task is to provide a single comprehensive score that is either True or False for the extracted       \n",
       "information.                                                                                                       \n",
       "</pre>\n"
      ],
      "text/plain": [
       "You are a medical documentation quality assessor specialized in evaluating information extraction from medical     \n",
       "records. Your task is to provide a single comprehensive score that is either True or False for the extracted       \n",
       "information.                                                                                                       \n"
      ]
     },
     "metadata": {},
     "output_type": "display_data"
    },
    {
     "data": {
      "text/html": [
       "<pre style=\"white-space:pre;overflow-x:auto;line-height:normal;font-family:Menlo,'DejaVu Sans Mono',consolas,'Courier New',monospace\">Scoring Criteria:                                                                                                  \n",
       "\n",
       "<span style=\"color: #808000; text-decoration-color: #808000; font-weight: bold\"> 1 </span>Required Fields (Critical)                                                                                      \n",
       "<span style=\"color: #808000; text-decoration-color: #808000; font-weight: bold\">   </span>• All specified fields are present (chief complaint, history, examination, symptoms, medications, follow-up)    \n",
       "<span style=\"color: #808000; text-decoration-color: #808000; font-weight: bold\">   </span>• Information is relevant and properly categorized                                                              \n",
       "<span style=\"color: #808000; text-decoration-color: #808000; font-weight: bold\">   </span>• N/A is used appropriately for missing information                                                             \n",
       "<span style=\"color: #808000; text-decoration-color: #808000; font-weight: bold\"> 2 </span>Accuracy &amp; Clarity                                                                                              \n",
       "<span style=\"color: #808000; text-decoration-color: #808000; font-weight: bold\">   </span>• Information accurately reflects the source material                                                           \n",
       "<span style=\"color: #808000; text-decoration-color: #808000; font-weight: bold\">   </span>• Medical terminology is used correctly                                                                         \n",
       "<span style=\"color: #808000; text-decoration-color: #808000; font-weight: bold\">   </span>• Summaries are clear and unambiguous                                                                           \n",
       "<span style=\"color: #808000; text-decoration-color: #808000; font-weight: bold\">   </span>• Key medical details are preserved                                                                             \n",
       "<span style=\"color: #808000; text-decoration-color: #808000; font-weight: bold\"> 3 </span>Privacy &amp; Formatting                                                                                            \n",
       "<span style=\"color: #808000; text-decoration-color: #808000; font-weight: bold\">   </span>• No personal identifiable information (PII) is included                                                        \n",
       "<span style=\"color: #808000; text-decoration-color: #808000; font-weight: bold\">   </span>• \"The patient\" is used instead of names                                                                        \n",
       "<span style=\"color: #808000; text-decoration-color: #808000; font-weight: bold\">   </span>• Bullet point format is followed correctly                                                                     \n",
       "<span style=\"color: #808000; text-decoration-color: #808000; font-weight: bold\">   </span>• Response length is appropriate (~150 words)                                                                   \n",
       "<span style=\"color: #808000; text-decoration-color: #808000; font-weight: bold\">   </span>• Information is well-organized and readable                                                                    \n",
       "\n",
       "Return only two fields matching the following structure where the score MUST be either True or False:              \n",
       "\n",
       "<span style=\"background-color: #272822\">                                                                                                                   </span>\n",
       "<span style=\"background-color: #272822\"> </span><span style=\"color: #f8f8f2; text-decoration-color: #f8f8f2; background-color: #272822\">{{</span><span style=\"background-color: #272822\">                                                                                                                </span>\n",
       "<span style=\"background-color: #272822\"> </span><span style=\"color: #f8f8f2; text-decoration-color: #f8f8f2; background-color: #272822\">    </span><span style=\"color: #ff4689; text-decoration-color: #ff4689; background-color: #272822\">\"score\"</span><span style=\"color: #f8f8f2; text-decoration-color: #f8f8f2; background-color: #272822\">: </span><span style=\"color: #ed007e; text-decoration-color: #ed007e; background-color: #1e0010\">True/False</span><span style=\"color: #f8f8f2; text-decoration-color: #f8f8f2; background-color: #272822\">,</span><span style=\"background-color: #272822\">                                                                                          </span>\n",
       "<span style=\"background-color: #272822\"> </span><span style=\"color: #f8f8f2; text-decoration-color: #f8f8f2; background-color: #272822\">    </span><span style=\"color: #ff4689; text-decoration-color: #ff4689; background-color: #272822\">\"reason\"</span><span style=\"color: #f8f8f2; text-decoration-color: #f8f8f2; background-color: #272822\">: </span><span style=\"color: #e6db74; text-decoration-color: #e6db74; background-color: #272822\">\"Detailed explanation of why this score was given, referencing specific strengths and weaknesses\"</span><span style=\"background-color: #272822\">   </span>\n",
       "<span style=\"background-color: #272822\"> </span><span style=\"color: #f8f8f2; text-decoration-color: #f8f8f2; background-color: #272822\">}}</span><span style=\"background-color: #272822\">                                                                                                                </span>\n",
       "<span style=\"background-color: #272822\">                                                                                                                   </span>\n",
       "\n",
       "Evaluate this extraction: {text}                                                                                   \n",
       "</pre>\n"
      ],
      "text/plain": [
       "Scoring Criteria:                                                                                                  \n",
       "\n",
       "\u001b[1;33m 1 \u001b[0mRequired Fields (Critical)                                                                                      \n",
       "\u001b[1;33m   \u001b[0m• All specified fields are present (chief complaint, history, examination, symptoms, medications, follow-up)    \n",
       "\u001b[1;33m   \u001b[0m• Information is relevant and properly categorized                                                              \n",
       "\u001b[1;33m   \u001b[0m• N/A is used appropriately for missing information                                                             \n",
       "\u001b[1;33m 2 \u001b[0mAccuracy & Clarity                                                                                              \n",
       "\u001b[1;33m   \u001b[0m• Information accurately reflects the source material                                                           \n",
       "\u001b[1;33m   \u001b[0m• Medical terminology is used correctly                                                                         \n",
       "\u001b[1;33m   \u001b[0m• Summaries are clear and unambiguous                                                                           \n",
       "\u001b[1;33m   \u001b[0m• Key medical details are preserved                                                                             \n",
       "\u001b[1;33m 3 \u001b[0mPrivacy & Formatting                                                                                            \n",
       "\u001b[1;33m   \u001b[0m• No personal identifiable information (PII) is included                                                        \n",
       "\u001b[1;33m   \u001b[0m• \"The patient\" is used instead of names                                                                        \n",
       "\u001b[1;33m   \u001b[0m• Bullet point format is followed correctly                                                                     \n",
       "\u001b[1;33m   \u001b[0m• Response length is appropriate (~150 words)                                                                   \n",
       "\u001b[1;33m   \u001b[0m• Information is well-organized and readable                                                                    \n",
       "\n",
       "Return only two fields matching the following structure where the score MUST be either True or False:              \n",
       "\n",
       "\u001b[48;2;39;40;34m                                                                                                                   \u001b[0m\n",
       "\u001b[48;2;39;40;34m \u001b[0m\u001b[38;2;248;248;242;48;2;39;40;34m{{\u001b[0m\u001b[48;2;39;40;34m                                                                                                               \u001b[0m\u001b[48;2;39;40;34m \u001b[0m\n",
       "\u001b[48;2;39;40;34m \u001b[0m\u001b[38;2;248;248;242;48;2;39;40;34m    \u001b[0m\u001b[38;2;255;70;137;48;2;39;40;34m\"score\"\u001b[0m\u001b[38;2;248;248;242;48;2;39;40;34m:\u001b[0m\u001b[38;2;248;248;242;48;2;39;40;34m \u001b[0m\u001b[38;2;237;0;126;48;2;30;0;16mT\u001b[0m\u001b[38;2;237;0;126;48;2;30;0;16mr\u001b[0m\u001b[38;2;237;0;126;48;2;30;0;16mu\u001b[0m\u001b[38;2;237;0;126;48;2;30;0;16me\u001b[0m\u001b[38;2;237;0;126;48;2;30;0;16m/\u001b[0m\u001b[38;2;237;0;126;48;2;30;0;16mF\u001b[0m\u001b[38;2;237;0;126;48;2;30;0;16ma\u001b[0m\u001b[38;2;237;0;126;48;2;30;0;16ml\u001b[0m\u001b[38;2;237;0;126;48;2;30;0;16ms\u001b[0m\u001b[38;2;237;0;126;48;2;30;0;16me\u001b[0m\u001b[38;2;248;248;242;48;2;39;40;34m,\u001b[0m\u001b[48;2;39;40;34m                                                                                         \u001b[0m\u001b[48;2;39;40;34m \u001b[0m\n",
       "\u001b[48;2;39;40;34m \u001b[0m\u001b[38;2;248;248;242;48;2;39;40;34m    \u001b[0m\u001b[38;2;255;70;137;48;2;39;40;34m\"reason\"\u001b[0m\u001b[38;2;248;248;242;48;2;39;40;34m:\u001b[0m\u001b[38;2;248;248;242;48;2;39;40;34m \u001b[0m\u001b[38;2;230;219;116;48;2;39;40;34m\"Detailed explanation of why this score was given, referencing specific strengths and weaknesses\"\u001b[0m\u001b[48;2;39;40;34m  \u001b[0m\u001b[48;2;39;40;34m \u001b[0m\n",
       "\u001b[48;2;39;40;34m \u001b[0m\u001b[38;2;248;248;242;48;2;39;40;34m}}\u001b[0m\u001b[48;2;39;40;34m                                                                                                               \u001b[0m\u001b[48;2;39;40;34m \u001b[0m\n",
       "\u001b[48;2;39;40;34m                                                                                                                   \u001b[0m\n",
       "\n",
       "Evaluate this extraction: {text}                                                                                   \n"
      ]
     },
     "metadata": {},
     "output_type": "display_data"
    }
   ],
   "source": [
    "display_prompt(medical_task_score_system_prompt)\n",
    "display_prompt(medical_task_score_prompt)"
   ]
  },
  {
   "cell_type": "code",
   "execution_count": 22,
   "metadata": {},
   "outputs": [],
   "source": [
    "@weave.op\n",
    "def judge_overall_score(model_output: str):\n",
    "    llm = LLMClient(model_name=MODEL, client_type=MODEL_CLIENT)\n",
    "    response = llm.predict(\n",
    "        user_prompt=medical_task_score_prompt.format(text=model_output),\n",
    "        system_prompt=medical_task_score_system_prompt,\n",
    "        schema=MedicalTaskScoreJudgement,\n",
    "    )\n",
    "    try:\n",
    "        result = json.loads(response.text.strip(\"\\n\"))\n",
    "        return int(result[0][\"score\"])\n",
    "    except:\n",
    "        return int(False)"
   ]
  },
  {
   "cell_type": "code",
   "execution_count": 23,
   "metadata": {},
   "outputs": [
    {
     "name": "stdout",
     "output_type": "stream",
     "text": [
      "🍩 https://wandb.ai/michaelyliu6-none/eval_course_ch1/r/call/01946dab-965d-7c31-8a7e-84a268bb689b\n"
     ]
    },
    {
     "data": {
      "text/plain": [
       "0"
      ]
     },
     "execution_count": 23,
     "metadata": {},
     "output_type": "execute_result"
    }
   ],
   "source": [
    "judge_overall_score(test_output)"
   ]
  },
  {
   "cell_type": "markdown",
   "metadata": {},
   "source": [
    "### We already have a dataset of annotated medical data. We can use our tests to evaluate the outputs of our LLM."
   ]
  },
  {
   "cell_type": "code",
   "execution_count": 31,
   "metadata": {},
   "outputs": [],
   "source": [
    "@weave.op\n",
    "def annotated_data_passthrough(input, output):\n",
    "    return output"
   ]
  },
  {
   "cell_type": "code",
   "execution_count": 25,
   "metadata": {},
   "outputs": [],
   "source": [
    "evaluation_data = [\n",
    "    {\n",
    "        \"input\": annotated_row[0][\"input\"],\n",
    "        \"output\": annotated_row[1][\"output\"],\n",
    "        \"scores\": {\n",
    "            \"human_required_keys\": deserialized_row.presence_of_keys,\n",
    "            \"human_word_limit\": deserialized_row.word_count,\n",
    "            \"human_absence_of_PII\": deserialized_row.absence_of_PII,\n",
    "            \"human_overall_score\": annotated_row[2],\n",
    "        },\n",
    "    }\n",
    "    for annotated_row in annotated_medical_data\n",
    "    if (deserialized_row := deserialize_model(annotated_row[3], MainCriteria))\n",
    "][0:5]"
   ]
  },
  {
   "cell_type": "code",
   "execution_count": 32,
   "metadata": {},
   "outputs": [
    {
     "data": {
      "text/html": [
       "<pre style=\"white-space:pre;overflow-x:auto;line-height:normal;font-family:Menlo,'DejaVu Sans Mono',consolas,'Courier New',monospace\">Evaluated <span style=\"color: #008080; text-decoration-color: #008080; font-weight: bold\">1</span> of <span style=\"color: #008080; text-decoration-color: #008080; font-weight: bold\">5</span> examples\n",
       "</pre>\n"
      ],
      "text/plain": [
       "Evaluated \u001b[1;36m1\u001b[0m of \u001b[1;36m5\u001b[0m examples\n"
      ]
     },
     "metadata": {},
     "output_type": "display_data"
    },
    {
     "data": {
      "text/html": [
       "<pre style=\"white-space:pre;overflow-x:auto;line-height:normal;font-family:Menlo,'DejaVu Sans Mono',consolas,'Courier New',monospace\">Evaluated <span style=\"color: #008080; text-decoration-color: #008080; font-weight: bold\">2</span> of <span style=\"color: #008080; text-decoration-color: #008080; font-weight: bold\">5</span> examples\n",
       "</pre>\n"
      ],
      "text/plain": [
       "Evaluated \u001b[1;36m2\u001b[0m of \u001b[1;36m5\u001b[0m examples\n"
      ]
     },
     "metadata": {},
     "output_type": "display_data"
    },
    {
     "data": {
      "text/html": [
       "<pre style=\"white-space:pre;overflow-x:auto;line-height:normal;font-family:Menlo,'DejaVu Sans Mono',consolas,'Courier New',monospace\">Evaluated <span style=\"color: #008080; text-decoration-color: #008080; font-weight: bold\">3</span> of <span style=\"color: #008080; text-decoration-color: #008080; font-weight: bold\">5</span> examples\n",
       "</pre>\n"
      ],
      "text/plain": [
       "Evaluated \u001b[1;36m3\u001b[0m of \u001b[1;36m5\u001b[0m examples\n"
      ]
     },
     "metadata": {},
     "output_type": "display_data"
    },
    {
     "data": {
      "text/html": [
       "<pre style=\"white-space:pre;overflow-x:auto;line-height:normal;font-family:Menlo,'DejaVu Sans Mono',consolas,'Courier New',monospace\">Evaluated <span style=\"color: #008080; text-decoration-color: #008080; font-weight: bold\">4</span> of <span style=\"color: #008080; text-decoration-color: #008080; font-weight: bold\">5</span> examples\n",
       "</pre>\n"
      ],
      "text/plain": [
       "Evaluated \u001b[1;36m4\u001b[0m of \u001b[1;36m5\u001b[0m examples\n"
      ]
     },
     "metadata": {},
     "output_type": "display_data"
    },
    {
     "data": {
      "text/html": [
       "<pre style=\"white-space:pre;overflow-x:auto;line-height:normal;font-family:Menlo,'DejaVu Sans Mono',consolas,'Courier New',monospace\">Evaluated <span style=\"color: #008080; text-decoration-color: #008080; font-weight: bold\">5</span> of <span style=\"color: #008080; text-decoration-color: #008080; font-weight: bold\">5</span> examples\n",
       "</pre>\n"
      ],
      "text/plain": [
       "Evaluated \u001b[1;36m5\u001b[0m of \u001b[1;36m5\u001b[0m examples\n"
      ]
     },
     "metadata": {},
     "output_type": "display_data"
    },
    {
     "data": {
      "text/html": [
       "<pre style=\"white-space:pre;overflow-x:auto;line-height:normal;font-family:Menlo,'DejaVu Sans Mono',consolas,'Courier New',monospace\">Evaluation summary\n",
       "<span style=\"font-weight: bold\">{</span>\n",
       "    <span style=\"color: #008000; text-decoration-color: #008000\">'test_adheres_to_required_keys'</span>: <span style=\"font-weight: bold\">{</span><span style=\"color: #008000; text-decoration-color: #008000\">'mean'</span>: <span style=\"color: #008080; text-decoration-color: #008080; font-weight: bold\">0.0</span><span style=\"font-weight: bold\">}</span>,\n",
       "    <span style=\"color: #008000; text-decoration-color: #008000\">'test_adheres_to_word_limit'</span>: <span style=\"font-weight: bold\">{</span><span style=\"color: #008000; text-decoration-color: #008000\">'mean'</span>: <span style=\"color: #008080; text-decoration-color: #008080; font-weight: bold\">1.0</span><span style=\"font-weight: bold\">}</span>,\n",
       "    <span style=\"color: #008000; text-decoration-color: #008000\">'judge_adheres_to_privacy_guidelines'</span>: <span style=\"font-weight: bold\">{</span><span style=\"color: #008000; text-decoration-color: #008000\">'mean'</span>: <span style=\"color: #008080; text-decoration-color: #008080; font-weight: bold\">1.0</span><span style=\"font-weight: bold\">}</span>,\n",
       "    <span style=\"color: #008000; text-decoration-color: #008000\">'judge_overall_score'</span>: <span style=\"font-weight: bold\">{</span><span style=\"color: #008000; text-decoration-color: #008000\">'mean'</span>: <span style=\"color: #008080; text-decoration-color: #008080; font-weight: bold\">0.0</span><span style=\"font-weight: bold\">}</span>,\n",
       "    <span style=\"color: #008000; text-decoration-color: #008000\">'model_latency'</span>: <span style=\"font-weight: bold\">{</span><span style=\"color: #008000; text-decoration-color: #008000\">'mean'</span>: <span style=\"color: #008080; text-decoration-color: #008080; font-weight: bold\">0.002484893798828125</span><span style=\"font-weight: bold\">}</span>\n",
       "<span style=\"font-weight: bold\">}</span>\n",
       "</pre>\n"
      ],
      "text/plain": [
       "Evaluation summary\n",
       "\u001b[1m{\u001b[0m\n",
       "    \u001b[32m'test_adheres_to_required_keys'\u001b[0m: \u001b[1m{\u001b[0m\u001b[32m'mean'\u001b[0m: \u001b[1;36m0.0\u001b[0m\u001b[1m}\u001b[0m,\n",
       "    \u001b[32m'test_adheres_to_word_limit'\u001b[0m: \u001b[1m{\u001b[0m\u001b[32m'mean'\u001b[0m: \u001b[1;36m1.0\u001b[0m\u001b[1m}\u001b[0m,\n",
       "    \u001b[32m'judge_adheres_to_privacy_guidelines'\u001b[0m: \u001b[1m{\u001b[0m\u001b[32m'mean'\u001b[0m: \u001b[1;36m1.0\u001b[0m\u001b[1m}\u001b[0m,\n",
       "    \u001b[32m'judge_overall_score'\u001b[0m: \u001b[1m{\u001b[0m\u001b[32m'mean'\u001b[0m: \u001b[1;36m0.0\u001b[0m\u001b[1m}\u001b[0m,\n",
       "    \u001b[32m'model_latency'\u001b[0m: \u001b[1m{\u001b[0m\u001b[32m'mean'\u001b[0m: \u001b[1;36m0.002484893798828125\u001b[0m\u001b[1m}\u001b[0m\n",
       "\u001b[1m}\u001b[0m\n"
      ]
     },
     "metadata": {},
     "output_type": "display_data"
    },
    {
     "name": "stdout",
     "output_type": "stream",
     "text": [
      "🍩 https://wandb.ai/michaelyliu6-none/eval_course_ch1/r/call/01946db0-ee60-7801-936a-d4180d5c890b\n"
     ]
    }
   ],
   "source": [
    "# Create evaluation\n",
    "evaluation = weave.Evaluation(\n",
    "    dataset=evaluation_data,\n",
    "    scorers=[\n",
    "        test_adheres_to_required_keys,\n",
    "        test_adheres_to_word_limit,\n",
    "        judge_adheres_to_privacy_guidelines,\n",
    "        judge_overall_score,\n",
    "    ],\n",
    ")\n",
    "\n",
    "# Run evaluation\n",
    "evals = asyncio.run(evaluation.evaluate(annotated_data_passthrough))"
   ]
  },
  {
   "cell_type": "markdown",
   "metadata": {},
   "source": [
    "### But do our test outputs adhere to the annotation expectations?\n",
    "\n",
    "We need to measure how well our automated evaluations match human judgment. We'll:\n",
    "\n",
    "1. **Measure Alignment**\n",
    "   - Compare automated test results with expert annotations using kappa scores\n",
    "   - Weight different aspects based on their importance (privacy, completeness, etc.)\n",
    "   - Find where automated tests disagree with human experts\n",
    "\n",
    "2. **Use These Results**\n",
    "   - Chapter 2 will focus on improving the LLM judges that show poor alignment\n",
    "   - We'll learn to refine prompts based on these alignment scores\n",
    "   - Build better evaluation systems by focusing on the weakest areas first\n",
    "\n",
    "These alignment measurements are crucial - they tell us which parts of our automated system need the most work, especially for critical aspects like privacy checks and medical accuracy."
   ]
  },
  {
   "cell_type": "code",
   "execution_count": 27,
   "metadata": {},
   "outputs": [],
   "source": [
    "# Get the evaluation call id from the evaluation object which you can see in the URL above!\n",
    "# This line will break for you!\n",
    "eval_call_id = \"019468be-ab64-7a32-b8af-95861cd58715\""
   ]
  },
  {
   "cell_type": "code",
   "execution_count": 28,
   "metadata": {},
   "outputs": [
    {
     "data": {
      "text/html": [
       "<div>\n",
       "<style scoped>\n",
       "    .dataframe tbody tr th:only-of-type {\n",
       "        vertical-align: middle;\n",
       "    }\n",
       "\n",
       "    .dataframe tbody tr th {\n",
       "        vertical-align: top;\n",
       "    }\n",
       "\n",
       "    .dataframe thead th {\n",
       "        text-align: right;\n",
       "    }\n",
       "</style>\n",
       "<table border=\"1\" class=\"dataframe\">\n",
       "  <thead>\n",
       "    <tr style=\"text-align: right;\">\n",
       "      <th></th>\n",
       "      <th>input</th>\n",
       "      <th>required_keys</th>\n",
       "      <th>word_limit</th>\n",
       "      <th>privacy</th>\n",
       "      <th>overall</th>\n",
       "    </tr>\n",
       "  </thead>\n",
       "  <tbody>\n",
       "    <tr>\n",
       "      <th>0</th>\n",
       "      <td>Dialogue: [doctor] hey dylan what's going on s...</td>\n",
       "      <td>(1, 0)</td>\n",
       "      <td>(1, 1)</td>\n",
       "      <td>(1, 1)</td>\n",
       "      <td>(1, 0)</td>\n",
       "    </tr>\n",
       "    <tr>\n",
       "      <th>1</th>\n",
       "      <td>Dialogue: [doctor] hello , mrs . peterson . [p...</td>\n",
       "      <td>(0, 0)</td>\n",
       "      <td>(1, 1)</td>\n",
       "      <td>(1, 1)</td>\n",
       "      <td>(0, 0)</td>\n",
       "    </tr>\n",
       "    <tr>\n",
       "      <th>2</th>\n",
       "      <td>Dialogue: [doctor] hey , ms. hill . nice to se...</td>\n",
       "      <td>(1, 0)</td>\n",
       "      <td>(1, 1)</td>\n",
       "      <td>(1, 1)</td>\n",
       "      <td>(1, 0)</td>\n",
       "    </tr>\n",
       "    <tr>\n",
       "      <th>3</th>\n",
       "      <td>Dialogue: [doctor] hi keith , how are you ? [p...</td>\n",
       "      <td>(0, 0)</td>\n",
       "      <td>(1, 1)</td>\n",
       "      <td>(1, 1)</td>\n",
       "      <td>(0, 0)</td>\n",
       "    </tr>\n",
       "    <tr>\n",
       "      <th>4</th>\n",
       "      <td>Dialogue: [doctor] okay so we are recording ok...</td>\n",
       "      <td>(1, 0)</td>\n",
       "      <td>(1, 1)</td>\n",
       "      <td>(1, 1)</td>\n",
       "      <td>(1, 0)</td>\n",
       "    </tr>\n",
       "  </tbody>\n",
       "</table>\n",
       "</div>"
      ],
      "text/plain": [
       "                                               input required_keys word_limit  \\\n",
       "0  Dialogue: [doctor] hey dylan what's going on s...        (1, 0)     (1, 1)   \n",
       "1  Dialogue: [doctor] hello , mrs . peterson . [p...        (0, 0)     (1, 1)   \n",
       "2  Dialogue: [doctor] hey , ms. hill . nice to se...        (1, 0)     (1, 1)   \n",
       "3  Dialogue: [doctor] hi keith , how are you ? [p...        (0, 0)     (1, 1)   \n",
       "4  Dialogue: [doctor] okay so we are recording ok...        (1, 0)     (1, 1)   \n",
       "\n",
       "  privacy overall  \n",
       "0  (1, 1)  (1, 0)  \n",
       "1  (1, 1)  (0, 0)  \n",
       "2  (1, 1)  (1, 0)  \n",
       "3  (1, 1)  (0, 0)  \n",
       "4  (1, 1)  (1, 0)  "
      ]
     },
     "execution_count": 28,
     "metadata": {},
     "output_type": "execute_result"
    }
   ],
   "source": [
    "df = get_evaluation_predictions(weave_client, eval_call_id)\n",
    "df"
   ]
  },
  {
   "cell_type": "markdown",
   "metadata": {},
   "source": [
    "#### Software Tests: Minimal Alignment and hard to optimize"
   ]
  },
  {
   "cell_type": "code",
   "execution_count": 29,
   "metadata": {},
   "outputs": [
    {
     "name": "stdout",
     "output_type": "stream",
     "text": [
      "required_keys: 0.000\n",
      "word_limit: nan\n"
     ]
    }
   ],
   "source": [
    "kappa_scores = calculate_kappa_scores(df, tuple_columns=[\"required_keys\", \"word_limit\"])\n",
    "for metric, score in kappa_scores.items():\n",
    "    print(f\"{metric}: {score:.3f}\")"
   ]
  },
  {
   "cell_type": "markdown",
   "metadata": {},
   "source": [
    "#### LLM Judges: Higher Alignment and easier to optimize"
   ]
  },
  {
   "cell_type": "code",
   "execution_count": 30,
   "metadata": {},
   "outputs": [
    {
     "name": "stdout",
     "output_type": "stream",
     "text": [
      "privacy: nan\n",
      "overall: 0.000\n"
     ]
    }
   ],
   "source": [
    "kappa_scores = calculate_kappa_scores(df, tuple_columns=[\"privacy\", \"overall\"])\n",
    "for metric, score in kappa_scores.items():\n",
    "    print(f\"{metric}: {score:.3f}\")"
   ]
  },
  {
   "cell_type": "markdown",
   "metadata": {},
   "source": [
    "## Resources"
   ]
  },
  {
   "cell_type": "markdown",
   "metadata": {},
   "source": [
    "- [Hamel's LLM Judge](https://hamel.dev/blog/posts/llm-judge/)\n",
    "- [Hamel's LLM Evaluation](https://hamel.dev/blog/posts/evals/)\n",
    "- [Clef's LLM Evaluation](https://huggingface.co/blog/clefourrier/llm-evaluation)\n",
    "- [Eugene Yan's LLM Evaluators](https://eugeneyan.com/writing/llm-evaluators/)\n",
    "- [Shreya's AI Engineering Flywheel](https://www.sh-reya.com/blog/ai-engineering-flywheel/)\n",
    "- [Who Validates the Validators?](https://arxiv.org/abs/2404.12272)"
   ]
  }
 ],
 "metadata": {
  "kernelspec": {
   "display_name": "base",
   "language": "python",
   "name": "python3"
  },
  "language_info": {
   "codemirror_mode": {
    "name": "ipython",
    "version": 3
   },
   "file_extension": ".py",
   "mimetype": "text/x-python",
   "name": "python",
   "nbconvert_exporter": "python",
   "pygments_lexer": "ipython3",
   "version": "3.11.11"
  }
 },
 "nbformat": 4,
 "nbformat_minor": 2
}
