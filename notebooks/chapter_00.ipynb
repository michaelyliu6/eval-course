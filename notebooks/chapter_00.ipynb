{
 "cells": [
  {
   "cell_type": "markdown",
   "metadata": {},
   "source": [
    "## Chapter 0: Setup\n",
    "\n",
    "<a target=\"_blank\" href=\"https://colab.research.google.com/github/wandb/eval-course/blob/main/notebooks/chapter_00.ipynb\">\n",
    "  <img src=\"https://colab.research.google.com/assets/colab-badge.svg\" alt=\"Open In Colab\"/>\n",
    "</a>\n",
    "\n",
    "<!--- @wandbcode{eval-course-00} -->\n",
    "\n",
    "Let's install the required packages and check our setup for this course.\n",
    "\n",
    "### 🎉 Free Google AI Studio Access\n",
    "\n",
    "Before you run this colab notebook, you'll need access to Google's Generative AI models. Here's how to get started:\n",
    "\n",
    "1. Visit [Google AI Studio](https://makersuite.google.com/app/home) and sign in with your Google account\n",
    "2. Get your API key from the \"Get API key\" section in Google AI Studio\n",
    "\n",
    "Alternatively, if you already have a Google AI Studio API key, feel free to proceed. :)"
   ]
  },
  {
   "cell_type": "code",
   "execution_count": 4,
   "metadata": {},
   "outputs": [],
   "source": [
    "!pip install -qq weave google-generativeai"
   ]
  },
  {
   "cell_type": "markdown",
   "metadata": {},
   "source": [
    "## 1. Setup Weave\n",
    "\n",
    "\n",
    "The code cell below will prompt you to put in a W&B API key. You can get your API key by heading over to https://wandb.ai/authorize."
   ]
  },
  {
   "cell_type": "code",
   "execution_count": 5,
   "metadata": {},
   "outputs": [],
   "source": [
    "# import weave\n",
    "import weave\n",
    "\n",
    "# initialize weave client\n",
    "weave_client = weave.init(\"eval_course_ch0\")"
   ]
  },
  {
   "cell_type": "markdown",
   "metadata": {},
   "source": [
    "## 2. Setup Google AI Studio\n",
    "\n",
    "The code cell below will prompt you to put in a Google AI Studio API key."
   ]
  },
  {
   "cell_type": "code",
   "execution_count": 6,
   "metadata": {},
   "outputs": [],
   "source": [
    "import getpass\n",
    "\n",
    "import google.generativeai as genai\n",
    "\n",
    "genai.configure(api_key=getpass.getpass(\"Please enter your Google AI Studio API key\"))"
   ]
  },
  {
   "cell_type": "markdown",
   "metadata": {},
   "source": [
    "## A simple-turn chat with Google AI Studio's gemini-2.0-flash-exp\n"
   ]
  },
  {
   "cell_type": "code",
   "execution_count": 7,
   "metadata": {},
   "outputs": [
    {
     "name": "stdout",
     "output_type": "stream",
     "text": [
      "🍩 https://wandb.ai/michaelyliu6-none/eval_course_ch0/r/call/019468b9-fba2-7590-a084-8c29fd986f17\n",
      "Alright, let's break down how Artificial Intelligence (AI) works, aiming for clarity and avoiding overly technical jargon. It's a vast field, so we'll cover the key concepts and methods.\n",
      "\n",
      "**At its core, AI is about creating machines that can perform tasks that typically require human intelligence.** This includes things like learning, problem-solving, decision-making, and understanding language. To achieve this, AI leverages a combination of techniques, with the most prominent being:\n",
      "\n",
      "**1. Data:**\n",
      "\n",
      "*   **The Fuel of AI:** AI systems learn from data. The more data they have, the better they can learn patterns and make accurate predictions or decisions.\n",
      "*   **Types of Data:** This can include images, text, audio, numbers, sensor readings – basically anything that can be represented digitally.\n",
      "*   **Data Preprocessing:** Raw data often needs cleaning, formatting, and preparation before it can be used to train an AI model. This involves tasks like removing errors, handling missing values, and transforming data into a suitable format.\n",
      "\n",
      "**2. Algorithms (The \"Brain\" of AI):**\n",
      "\n",
      "*   **Sets of Instructions:** Algorithms are like step-by-step instructions that tell a computer how to process data and perform a specific task.\n",
      "*   **Different Types for Different Tasks:** There are many types of algorithms, each suited for different problems. Some key types include:\n",
      "    *   **Machine Learning (ML) Algorithms:** These are designed to learn from data *without explicit programming*.\n",
      "        *   **Supervised Learning:** The algorithm learns from labeled data (e.g., images of cats and dogs, where each image is labeled). It aims to predict the label for new, unseen data.\n",
      "        *   **Unsupervised Learning:** The algorithm learns from unlabeled data, trying to find patterns, structures, or clusters. Examples include grouping similar customers or identifying anomalies.\n",
      "        *   **Reinforcement Learning:** The algorithm learns by trial and error, receiving feedback (rewards or penalties) for its actions in an environment. It aims to learn the best strategy to maximize rewards.\n",
      "    *   **Deep Learning Algorithms:** A subset of ML, these algorithms use artificial neural networks with multiple layers (hence \"deep\"). These are incredibly powerful for complex tasks like image recognition and natural language processing.\n",
      "\n",
      "**3. Models (The Learned Representation):**\n",
      "\n",
      "*   **Result of Learning:** After training on data using algorithms, an AI model is created. This model captures the patterns and relationships learned from the data.\n",
      "*   **Representation of Knowledge:** You can think of the model as a learned representation of the data. For example, a model trained to identify cats would \"know\" what features (like pointed ears, fur, etc.) are characteristic of cats.\n",
      "*   **Used for Predictions:** Once trained, the model can then be used to make predictions or decisions on new, unseen data.\n",
      "\n",
      "**Here's a simplified analogy:**\n",
      "\n",
      "Imagine you're trying to teach a child to recognize cats.\n",
      "\n",
      "*   **Data:** You show the child lots of pictures of cats (various breeds, colors, positions). This is the training data.\n",
      "*   **Algorithm:** You help the child identify key features (pointed ears, whiskers, a tail). This is like the learning algorithm.\n",
      "*   **Model:** The child learns to recognize cats based on these features. This is the model.\n",
      "*   **Prediction:** Now, when the child sees a new picture of a cat, they can recognize it. This is the model making a prediction.\n",
      "\n",
      "**How AI Systems Work (General Steps):**\n",
      "\n",
      "1.  **Data Collection:** Gathering relevant data.\n",
      "2.  **Data Preprocessing:** Cleaning and preparing the data.\n",
      "3.  **Algorithm Selection:** Choosing the right algorithm for the task.\n",
      "4.  **Model Training:** Using the data and algorithm to create a model.\n",
      "5.  **Model Evaluation:** Testing the model's performance on new data and making adjustments as needed.\n",
      "6.  **Deployment:** Using the model to make predictions or decisions in real-world scenarios.\n",
      "\n",
      "**Key Concepts to Remember:**\n",
      "\n",
      "*   **Learning:** AI systems are designed to learn from data, not just follow pre-programmed rules.\n",
      "*   **Pattern Recognition:** AI excels at identifying patterns in vast amounts of data that humans might miss.\n",
      "*   **Iteration:** Model development is often an iterative process, where the model is constantly refined and improved.\n",
      "*   **Abstraction:** AI can create abstract representations of knowledge from complex data.\n",
      "\n",
      "**Examples of AI in Action:**\n",
      "\n",
      "*   **Image Recognition:** Identifying objects in images (e.g., facial recognition, medical image analysis).\n",
      "*   **Natural Language Processing (NLP):** Understanding and processing human language (e.g., chatbots, translation).\n",
      "*   **Recommendation Systems:** Suggesting products or content (e.g., Netflix, Amazon).\n",
      "*   **Autonomous Vehicles:** Self-driving cars.\n",
      "*   **Medical Diagnosis:** Helping doctors diagnose diseases.\n",
      "*   **Fraud Detection:** Identifying fraudulent transactions.\n",
      "\n",
      "**In Summary:**\n",
      "\n",
      "AI works by using algorithms to learn from data, creating models that can then be used to make predictions or decisions. The field is constantly evolving, with new algorithms and techniques being developed all the time. It's a powerful tool with the potential to transform many aspects of our lives.\n",
      "\n",
      "This is a simplified explanation of a very complex field, but hopefully it provides you with a solid understanding of the fundamental concepts. If you have more questions about specific aspects of AI, feel free to ask!\n",
      "\n"
     ]
    }
   ],
   "source": [
    "model = genai.GenerativeModel(\"gemini-2.0-flash-exp\")\n",
    "response = model.generate_content(\"Explain how AI works\")\n",
    "print(response.text)"
   ]
  },
  {
   "cell_type": "markdown",
   "metadata": {},
   "source": [
    "Let's head over to the weave URL to check out the generated response."
   ]
  }
 ],
 "metadata": {
  "colab": {
   "provenance": []
  },
  "kernelspec": {
   "display_name": "base",
   "language": "python",
   "name": "python3"
  },
  "language_info": {
   "codemirror_mode": {
    "name": "ipython",
    "version": 3
   },
   "file_extension": ".py",
   "mimetype": "text/x-python",
   "name": "python",
   "nbconvert_exporter": "python",
   "pygments_lexer": "ipython3",
   "version": "3.12.2"
  }
 },
 "nbformat": 4,
 "nbformat_minor": 0
}
