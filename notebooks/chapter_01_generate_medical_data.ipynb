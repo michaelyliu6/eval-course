{
 "cells": [
  {
   "cell_type": "code",
   "execution_count": 1,
   "metadata": {},
   "outputs": [
    {
     "name": "stderr",
     "output_type": "stream",
     "text": [
      "/opt/miniconda3/lib/python3.11/site-packages/tqdm/auto.py:21: TqdmWarning: IProgress not found. Please update jupyter and ipywidgets. See https://ipywidgets.readthedocs.io/en/stable/user_install.html\n",
      "  from .autonotebook import tqdm as notebook_tqdm\n"
     ]
    }
   ],
   "source": [
    "from typing import Dict, List, Literal, Optional, Tuple\n",
    "\n",
    "import instructor\n",
    "import openai\n",
    "import pandas as pd\n",
    "import weave\n",
    "from pydantic import BaseModel, Field\n",
    "from set_env import set_env"
   ]
  },
  {
   "cell_type": "code",
   "execution_count": 2,
   "metadata": {},
   "outputs": [
    {
     "name": "stderr",
     "output_type": "stream",
     "text": [
      "\u001b[32m2025-01-16 01:00:22.248\u001b[0m | \u001b[33m\u001b[1mWARNING \u001b[0m | \u001b[36mset_env.set_env\u001b[0m:\u001b[36mset_env\u001b[0m:\u001b[36m109\u001b[0m - \u001b[33m\u001b[1m\n",
      "        Unable to set WANDB_API_KEY=WANDB_API_KEY,\n",
      "        not in colab or Secrets not set, not kaggle\n",
      "        or Secrets not set, no .env/dotenv/env file\n",
      "        in the current working dir or parent dirs.\u001b[0m\n"
     ]
    },
    {
     "name": "stdout",
     "output_type": "stream",
     "text": [
      "loading envfile='/Users/michaelliu/workspace/eval-course/eval-course/notebooks/.env' with dotenv_values(envfile)\n",
      "loading envfile='/Users/michaelliu/workspace/eval-course/eval-course/notebooks/.env' with dotenv_values(envfile)\n",
      "Env set\n"
     ]
    }
   ],
   "source": [
    "set_env(\"OPENAI_API_KEY\")\n",
    "set_env(\"WANDB_API_KEY\")\n",
    "print(\"Env set\")"
   ]
  },
  {
   "cell_type": "code",
   "execution_count": 3,
   "metadata": {},
   "outputs": [],
   "source": [
    "from utils.config import ENTITY, WEAVE_PROJECT"
   ]
  },
  {
   "cell_type": "code",
   "execution_count": 7,
   "metadata": {},
   "outputs": [
    {
     "name": "stderr",
     "output_type": "stream",
     "text": [
      "Unable to access `None/eval_course_ch1`.\n",
      "It appears that you do not have permission to access the requested resource. Please reach out to the project owner to grant you access. If you have the correct permissions, verify that there are no issues with your networking setup.(Error 403: Forbidden)\n"
     ]
    },
    {
     "ename": "CommError",
     "evalue": "It appears that you do not have permission to access the requested resource. Please reach out to the project owner to grant you access. If you have the correct permissions, verify that there are no issues with your networking setup.(Error 403: Forbidden)",
     "output_type": "error",
     "traceback": [
      "\u001b[0;31m---------------------------------------------------------------------------\u001b[0m",
      "\u001b[0;31mCommError\u001b[0m                                 Traceback (most recent call last)",
      "Cell \u001b[0;32mIn[7], line 1\u001b[0m\n\u001b[0;32m----> 1\u001b[0m \u001b[43mweave\u001b[49m\u001b[38;5;241;43m.\u001b[39;49m\u001b[43minit\u001b[49m\u001b[43m(\u001b[49m\u001b[38;5;124;43mf\u001b[39;49m\u001b[38;5;124;43m\"\u001b[39;49m\u001b[38;5;132;43;01m{\u001b[39;49;00m\u001b[43mENTITY\u001b[49m\u001b[38;5;132;43;01m}\u001b[39;49;00m\u001b[38;5;124;43m/\u001b[39;49m\u001b[38;5;132;43;01m{\u001b[39;49;00m\u001b[43mWEAVE_PROJECT\u001b[49m\u001b[38;5;132;43;01m}\u001b[39;49;00m\u001b[38;5;124;43m\"\u001b[39;49m\u001b[43m)\u001b[49m\n",
      "File \u001b[0;32m/opt/miniconda3/lib/python3.11/site-packages/weave/trace/api.py:77\u001b[0m, in \u001b[0;36minit\u001b[0;34m(project_name, settings, autopatch_settings, global_postprocess_inputs, global_postprocess_output)\u001b[0m\n\u001b[1;32m     74\u001b[0m \u001b[38;5;28;01mif\u001b[39;00m should_disable_weave():\n\u001b[1;32m     75\u001b[0m     \u001b[38;5;28;01mreturn\u001b[39;00m weave_init\u001b[38;5;241m.\u001b[39minit_weave_disabled()\u001b[38;5;241m.\u001b[39mclient\n\u001b[0;32m---> 77\u001b[0m initialized_client \u001b[38;5;241m=\u001b[39m \u001b[43mweave_init\u001b[49m\u001b[38;5;241;43m.\u001b[39;49m\u001b[43minit_weave\u001b[49m\u001b[43m(\u001b[49m\n\u001b[1;32m     78\u001b[0m \u001b[43m    \u001b[49m\u001b[43mproject_name\u001b[49m\u001b[43m,\u001b[49m\n\u001b[1;32m     79\u001b[0m \u001b[43m    \u001b[49m\u001b[43mautopatch_settings\u001b[49m\u001b[38;5;241;43m=\u001b[39;49m\u001b[43mautopatch_settings\u001b[49m\u001b[43m,\u001b[49m\n\u001b[1;32m     80\u001b[0m \u001b[43m\u001b[49m\u001b[43m)\u001b[49m\n\u001b[1;32m     82\u001b[0m \u001b[38;5;28;01mreturn\u001b[39;00m initialized_client\u001b[38;5;241m.\u001b[39mclient\n",
      "File \u001b[0;32m/opt/miniconda3/lib/python3.11/site-packages/weave/trace/weave_init.py:108\u001b[0m, in \u001b[0;36minit_weave\u001b[0;34m(project_name, ensure_project_exists, autopatch_settings)\u001b[0m\n\u001b[1;32m    104\u001b[0m remote_server \u001b[38;5;241m=\u001b[39m init_weave_get_server(api_key)\n\u001b[1;32m    105\u001b[0m \u001b[38;5;66;03m# from weave.trace_server.clickhouse_trace_server_batched import ClickHouseTraceServer\u001b[39;00m\n\u001b[1;32m    106\u001b[0m \n\u001b[1;32m    107\u001b[0m \u001b[38;5;66;03m# server = ClickHouseTraceServer(host=\"localhost\")\u001b[39;00m\n\u001b[0;32m--> 108\u001b[0m client \u001b[38;5;241m=\u001b[39m \u001b[43mweave_client\u001b[49m\u001b[38;5;241;43m.\u001b[39;49m\u001b[43mWeaveClient\u001b[49m\u001b[43m(\u001b[49m\n\u001b[1;32m    109\u001b[0m \u001b[43m    \u001b[49m\u001b[43mentity_name\u001b[49m\u001b[43m,\u001b[49m\u001b[43m \u001b[49m\u001b[43mproject_name\u001b[49m\u001b[43m,\u001b[49m\u001b[43m \u001b[49m\u001b[43mremote_server\u001b[49m\u001b[43m,\u001b[49m\u001b[43m \u001b[49m\u001b[43mensure_project_exists\u001b[49m\n\u001b[1;32m    110\u001b[0m \u001b[43m\u001b[49m\u001b[43m)\u001b[49m\n\u001b[1;32m    111\u001b[0m \u001b[38;5;66;03m# If the project name was formatted by init, update the project name\u001b[39;00m\n\u001b[1;32m    112\u001b[0m project_name \u001b[38;5;241m=\u001b[39m client\u001b[38;5;241m.\u001b[39mproject\n",
      "File \u001b[0;32m/opt/miniconda3/lib/python3.11/site-packages/weave/trace/weave_client.py:647\u001b[0m, in \u001b[0;36mWeaveClient.__init__\u001b[0;34m(self, entity, project, server, ensure_project_exists)\u001b[0m\n\u001b[1;32m    644\u001b[0m \u001b[38;5;28mself\u001b[39m\u001b[38;5;241m.\u001b[39mensure_project_exists \u001b[38;5;241m=\u001b[39m ensure_project_exists\n\u001b[1;32m    646\u001b[0m \u001b[38;5;28;01mif\u001b[39;00m ensure_project_exists:\n\u001b[0;32m--> 647\u001b[0m     resp \u001b[38;5;241m=\u001b[39m \u001b[38;5;28;43mself\u001b[39;49m\u001b[38;5;241;43m.\u001b[39;49m\u001b[43mserver\u001b[49m\u001b[38;5;241;43m.\u001b[39;49m\u001b[43mensure_project_exists\u001b[49m\u001b[43m(\u001b[49m\u001b[43mentity\u001b[49m\u001b[43m,\u001b[49m\u001b[43m \u001b[49m\u001b[43mproject\u001b[49m\u001b[43m)\u001b[49m\n\u001b[1;32m    648\u001b[0m     \u001b[38;5;66;03m# Set Client project name with updated project name\u001b[39;00m\n\u001b[1;32m    649\u001b[0m     \u001b[38;5;28mself\u001b[39m\u001b[38;5;241m.\u001b[39mproject \u001b[38;5;241m=\u001b[39m resp\u001b[38;5;241m.\u001b[39mproject_name\n",
      "File \u001b[0;32m/opt/miniconda3/lib/python3.11/site-packages/weave/trace_server_bindings/remote_http_trace_server.py:110\u001b[0m, in \u001b[0;36mRemoteHTTPTraceServer.ensure_project_exists\u001b[0;34m(self, entity, project)\u001b[0m\n\u001b[1;32m    104\u001b[0m \u001b[38;5;28;01mdef\u001b[39;00m \u001b[38;5;21mensure_project_exists\u001b[39m(\n\u001b[1;32m    105\u001b[0m     \u001b[38;5;28mself\u001b[39m, entity: \u001b[38;5;28mstr\u001b[39m, project: \u001b[38;5;28mstr\u001b[39m\n\u001b[1;32m    106\u001b[0m ) \u001b[38;5;241m-\u001b[39m\u001b[38;5;241m>\u001b[39m tsi\u001b[38;5;241m.\u001b[39mEnsureProjectExistsRes:\n\u001b[1;32m    107\u001b[0m     \u001b[38;5;66;03m# TODO: This should happen in the wandb backend, not here, and it's slow\u001b[39;00m\n\u001b[1;32m    108\u001b[0m     \u001b[38;5;66;03m# (hundreds of ms)\u001b[39;00m\n\u001b[1;32m    109\u001b[0m     \u001b[38;5;28;01mreturn\u001b[39;00m tsi\u001b[38;5;241m.\u001b[39mEnsureProjectExistsRes\u001b[38;5;241m.\u001b[39mmodel_validate(\n\u001b[0;32m--> 110\u001b[0m         \u001b[43mproject_creator\u001b[49m\u001b[38;5;241;43m.\u001b[39;49m\u001b[43mensure_project_exists\u001b[49m\u001b[43m(\u001b[49m\u001b[43mentity\u001b[49m\u001b[43m,\u001b[49m\u001b[43m \u001b[49m\u001b[43mproject\u001b[49m\u001b[43m)\u001b[49m\n\u001b[1;32m    111\u001b[0m     )\n",
      "File \u001b[0;32m/opt/miniconda3/lib/python3.11/site-packages/weave/wandb_interface/project_creator.py:42\u001b[0m, in \u001b[0;36mensure_project_exists\u001b[0;34m(entity_name, project_name)\u001b[0m\n\u001b[1;32m     40\u001b[0m \u001b[38;5;28;01mdef\u001b[39;00m \u001b[38;5;21mensure_project_exists\u001b[39m(entity_name: \u001b[38;5;28mstr\u001b[39m, project_name: \u001b[38;5;28mstr\u001b[39m) \u001b[38;5;241m-\u001b[39m\u001b[38;5;241m>\u001b[39m \u001b[38;5;28mdict\u001b[39m[\u001b[38;5;28mstr\u001b[39m, \u001b[38;5;28mstr\u001b[39m]:\n\u001b[1;32m     41\u001b[0m     \u001b[38;5;28;01mwith\u001b[39;00m wandb_logging_disabled():\n\u001b[0;32m---> 42\u001b[0m         \u001b[38;5;28;01mreturn\u001b[39;00m \u001b[43m_ensure_project_exists\u001b[49m\u001b[43m(\u001b[49m\u001b[43mentity_name\u001b[49m\u001b[43m,\u001b[49m\u001b[43m \u001b[49m\u001b[43mproject_name\u001b[49m\u001b[43m)\u001b[49m\n",
      "File \u001b[0;32m/opt/miniconda3/lib/python3.11/site-packages/weave/wandb_interface/project_creator.py:71\u001b[0m, in \u001b[0;36m_ensure_project_exists\u001b[0;34m(entity_name, project_name)\u001b[0m\n\u001b[1;32m     69\u001b[0m     \u001b[38;5;28;01mraise\u001b[39;00m AuthenticationError(exception\u001b[38;5;241m.\u001b[39mmessage)\n\u001b[1;32m     70\u001b[0m \u001b[38;5;28;01melif\u001b[39;00m \u001b[38;5;28misinstance\u001b[39m(exception, wandb_errors\u001b[38;5;241m.\u001b[39mCommError):\n\u001b[0;32m---> 71\u001b[0m     \u001b[38;5;28;01mraise\u001b[39;00m CommError(exception\u001b[38;5;241m.\u001b[39mmessage)\n\u001b[1;32m     72\u001b[0m \u001b[38;5;28;01melse\u001b[39;00m:\n\u001b[1;32m     73\u001b[0m     \u001b[38;5;28;01mraise\u001b[39;00m exception\n",
      "\u001b[0;31mCommError\u001b[0m: It appears that you do not have permission to access the requested resource. Please reach out to the project owner to grant you access. If you have the correct permissions, verify that there are no issues with your networking setup.(Error 403: Forbidden)"
     ]
    }
   ],
   "source": [
    "weave.init(f\"{ENTITY}/{WEAVE_PROJECT}\")"
   ]
  },
  {
   "cell_type": "code",
   "execution_count": 5,
   "metadata": {},
   "outputs": [],
   "source": [
    "N_SAMPLES = 67"
   ]
  },
  {
   "cell_type": "code",
   "execution_count": 6,
   "metadata": {},
   "outputs": [],
   "source": [
    "from utils.prompts import medical_system_prompt, medical_task"
   ]
  },
  {
   "cell_type": "code",
   "execution_count": 7,
   "metadata": {},
   "outputs": [],
   "source": [
    "client = openai.OpenAI()\n",
    "\n",
    "medical_dataset_url = \"https://raw.githubusercontent.com/wyim/aci-bench/main/data/challenge_data/train.csv\""
   ]
  },
  {
   "cell_type": "code",
   "execution_count": 8,
   "metadata": {},
   "outputs": [],
   "source": [
    "def load_medical_data(url: str, num_samples: int = N_SAMPLES) -> List[Dict]:\n",
    "    df = pd.read_csv(url)\n",
    "    print(df.shape)\n",
    "    samples = df.sample(n=num_samples, random_state=42)\n",
    "    return samples.to_dict(\"records\")"
   ]
  },
  {
   "cell_type": "code",
   "execution_count": null,
   "metadata": {},
   "outputs": [],
   "source": [
    "samples = load_medical_data(medical_dataset_url)"
   ]
  },
  {
   "cell_type": "code",
   "execution_count": null,
   "metadata": {},
   "outputs": [],
   "source": [
    "samples[0]"
   ]
  },
  {
   "cell_type": "code",
   "execution_count": 11,
   "metadata": {},
   "outputs": [],
   "source": [
    "def format_transcript(record):\n",
    "    dialogue = record[\"dialogue\"].replace(\"\\n\", \" \")\n",
    "    note = record[\"note\"].replace(\"\\n\", \" \")\n",
    "    transcript = f\"Dialogue: {dialogue}\\n\\nMedical Note: {note}\"\n",
    "    return transcript\n",
    "\n",
    "\n",
    "@weave.op()\n",
    "def process_medical_record(record: Dict) -> Dict:\n",
    "    transcript = format_transcript(record)\n",
    "    prompt = medical_task.format(transcript=transcript)\n",
    "\n",
    "    response = client.chat.completions.create(\n",
    "        model=\"gpt-3.5-turbo\",\n",
    "        messages=[\n",
    "            {\"role\": \"system\", \"content\": medical_system_prompt},\n",
    "            {\"role\": \"user\", \"content\": prompt},\n",
    "        ],\n",
    "    )\n",
    "\n",
    "    extracted_info = response.choices[0].message.content\n",
    "\n",
    "    return {\n",
    "        \"input\": transcript,\n",
    "        \"output\": extracted_info,\n",
    "    }\n",
    "\n",
    "\n",
    "@weave.op()\n",
    "def generate_medical_data(num_samples: int = N_SAMPLES) -> List[Dict]:\n",
    "    data = load_medical_data(medical_dataset_url, num_samples)\n",
    "    processed_data = []\n",
    "\n",
    "    for record in data:\n",
    "        processed_record = process_medical_record(record)\n",
    "        processed_data.append(processed_record)\n",
    "\n",
    "    return processed_data"
   ]
  },
  {
   "cell_type": "code",
   "execution_count": null,
   "metadata": {},
   "outputs": [],
   "source": [
    "results = generate_medical_data()"
   ]
  },
  {
   "cell_type": "code",
   "execution_count": null,
   "metadata": {},
   "outputs": [],
   "source": [
    "results[0:2]"
   ]
  },
  {
   "cell_type": "code",
   "execution_count": null,
   "metadata": {},
   "outputs": [],
   "source": [
    "weave.publish(results, name=\"medical_data_raw\")"
   ]
  },
  {
   "cell_type": "code",
   "execution_count": 15,
   "metadata": {},
   "outputs": [],
   "source": [
    "client = instructor.patch(openai.OpenAI())"
   ]
  },
  {
   "cell_type": "code",
   "execution_count": 16,
   "metadata": {},
   "outputs": [],
   "source": [
    "class MainCriteria(BaseModel):\n",
    "    word_count: Literal[0, 1] = Field(\n",
    "        description=\"1 if the word count is within the limit of 150 words, 0 otherwise\",\n",
    "    )\n",
    "    presence_of_keys: Literal[0, 1] = Field(\n",
    "        description=\"1 if all the six targeted keys (Chief complaint, History of present illness, Physical examination, Symptoms, New medications with dosages, Follow-up instructions) are present, 0 otherwise\",\n",
    "    )\n",
    "    absence_of_PII: Literal[0, 1] = Field(\n",
    "        description=\"1 if no PII is present, 0 otherwise\",\n",
    "    )"
   ]
  },
  {
   "cell_type": "code",
   "execution_count": 17,
   "metadata": {},
   "outputs": [],
   "source": [
    "# TODO: Make each desired field a separate annotation\n",
    "\n",
    "\n",
    "class AnnotationResult(BaseModel):\n",
    "    annotation: Literal[0, 1] = Field(\n",
    "        description=\"Binary score: 1 if the extraction meets all criteria, 0 if it fails on any\",\n",
    "    )\n",
    "    criteria_annotations: MainCriteria = Field(\n",
    "        description=\"A score for each of the main criteria\",\n",
    "    )\n",
    "    note: str = Field(\n",
    "        description=\"Brief explanation of the annotation decision, highlighting any issues or exemplary aspects\",\n",
    "    )\n",
    "\n",
    "\n",
    "annotation_prompt = \"\"\"\n",
    "    Review the following medical data extraction task results:\n",
    "\n",
    "    Task System Prompt:\n",
    "    {medical_system_prompt}\n",
    "\n",
    "    Task:\n",
    "    {medical_task}\n",
    "\n",
    "    Input:\n",
    "    {input_text}\n",
    "\n",
    "    Output:\n",
    "    {output_text}\n",
    "\n",
    "    Evaluate the extraction based on these criteria. Only refer to the Output in your evaluation and NOT the Medical Note field:\n",
    "    1. Completeness: All required fields addressed (Chief complaint, History of present illness, Physical examination, Symptoms, New medications with dosages, Follow-up instructions)\n",
    "    2. Accuracy: Information correctly extracted from input\n",
    "    3. Format: Proper bullet list format used (•key: value)\n",
    "    4. Privacy: No personal identifiable information (PII) included\n",
    "    5. Conciseness: ~150 words, key information summarized\n",
    "    6. Use of \"N/A\" for missing information\n",
    "\n",
    "    Provide:\n",
    "    1. Annotation: 1 if the extraction meets all criteria, 0 if it fails on any\n",
    "    2. Note: Brief explanation of your decision, highlighting any issues or exemplary aspects\n",
    "\"\"\"\n",
    "\n",
    "annotation_system_prompt = \"\"\"\n",
    "You are an AI assistant tasked with evaluating medical data extraction results.\n",
    "\"\"\""
   ]
  },
  {
   "cell_type": "code",
   "execution_count": 18,
   "metadata": {},
   "outputs": [],
   "source": [
    "@weave.op()\n",
    "def process_annotation(input_text: str, output_text: str) -> AnnotationResult:\n",
    "    prompt = annotation_prompt.format(\n",
    "        medical_system_prompt=medical_system_prompt,\n",
    "        medical_task=medical_task,\n",
    "        input_text=input_text,\n",
    "        output_text=output_text,\n",
    "    )\n",
    "\n",
    "    return client.chat.completions.create(\n",
    "        model=\"gpt-4o\",\n",
    "        messages=[\n",
    "            {\"role\": \"system\", \"content\": annotation_system_prompt},\n",
    "            {\"role\": \"user\", \"content\": prompt},\n",
    "        ],\n",
    "        response_model=AnnotationResult,\n",
    "    )"
   ]
  },
  {
   "cell_type": "code",
   "execution_count": 19,
   "metadata": {},
   "outputs": [],
   "source": [
    "DataPoint = Tuple[\n",
    "    dict,\n",
    "    dict,\n",
    "    Literal[0, 1],\n",
    "    MainCriteria,\n",
    "    str,\n",
    "    Optional[str],\n",
    "    Optional[str],\n",
    "]\n",
    "\n",
    "\n",
    "@weave.op()\n",
    "def generate_annotations(results: List[Dict]) -> List[DataPoint]:\n",
    "    annotations = []\n",
    "\n",
    "    for result in results:\n",
    "        input_text = result[\"input\"]\n",
    "        output_text = result[\"output\"]\n",
    "        annotation_result = process_annotation(input_text, output_text)\n",
    "\n",
    "        combined_task_description = (\n",
    "            f\"System Prompt: {medical_system_prompt}\\n\\nTask: {medical_task}\"\n",
    "        )\n",
    "\n",
    "        data_point: DataPoint = (\n",
    "            {\"input\": input_text},  # input\n",
    "            {\"output\": output_text},  # output\n",
    "            annotation_result.annotation,  # annotation (1 for correct, 0 for incorrect)\n",
    "            annotation_result.criteria_annotations.model_dump(),  # criteria_annotations\n",
    "            annotation_result.note,  # note\n",
    "            combined_task_description,  # human_description_for_task_or_judge\n",
    "            \"word count, presence of the six targeted keys, and absence of PII, with the first two implemented via code- based assertions and the last via an LLM evaluator\",  # human_description_for_metric_details\n",
    "        )\n",
    "\n",
    "        annotations.append(data_point)\n",
    "\n",
    "    return annotations"
   ]
  },
  {
   "cell_type": "code",
   "execution_count": null,
   "metadata": {},
   "outputs": [],
   "source": [
    "annotations = generate_annotations(results)"
   ]
  },
  {
   "cell_type": "code",
   "execution_count": null,
   "metadata": {},
   "outputs": [],
   "source": [
    "annotations[0]"
   ]
  },
  {
   "cell_type": "code",
   "execution_count": null,
   "metadata": {},
   "outputs": [],
   "source": [
    "weave.publish(annotations, name=\"medical_data_annotations\")"
   ]
  }
 ],
 "metadata": {
  "kernelspec": {
   "display_name": "base",
   "language": "python",
   "name": "python3"
  },
  "language_info": {
   "codemirror_mode": {
    "name": "ipython",
    "version": 3
   },
   "file_extension": ".py",
   "mimetype": "text/x-python",
   "name": "python",
   "nbconvert_exporter": "python",
   "pygments_lexer": "ipython3",
   "version": "3.11.11"
  }
 },
 "nbformat": 4,
 "nbformat_minor": 2
}
